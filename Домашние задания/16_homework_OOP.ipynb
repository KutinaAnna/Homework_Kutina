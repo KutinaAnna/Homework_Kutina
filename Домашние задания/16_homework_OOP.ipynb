{
 "cells": [
  {
   "cell_type": "code",
   "execution_count": 53,
   "id": "d18ba965",
   "metadata": {},
   "outputs": [],
   "source": [
    "class Plants:\n",
    "    def __init__(self, number_of_pl, sun_loving, life_form, biomass):\n",
    "        self.number_of_pl = number_of_pl\n",
    "        self.sun_loving = sun_loving\n",
    "        self.life_form = life_form\n",
    "        self.biomass = biomass\n",
    "    def fertilizer(self, type, n_times, k_veg, k_repr):\n",
    "        self.number_of_pl += self.number_of_pl*k_repr\n",
    "        self.biomass += k_veg*n_times*self.number_of_pl\n",
    "        print(f\"new biomass={self.biomass} and new number_of_pl={self.number_of_pl}\")\n",
    "        "
   ]
  },
  {
   "cell_type": "code",
   "execution_count": 60,
   "id": "fb321136",
   "metadata": {},
   "outputs": [],
   "source": [
    "timothy = Plants(1000, True, \"grass\", 500)"
   ]
  },
  {
   "cell_type": "code",
   "execution_count": 55,
   "id": "9cd177da",
   "metadata": {},
   "outputs": [
    {
     "data": {
      "text/plain": [
       "1000"
      ]
     },
     "execution_count": 55,
     "metadata": {},
     "output_type": "execute_result"
    }
   ],
   "source": [
    "timothy.number_of_pl"
   ]
  },
  {
   "cell_type": "code",
   "execution_count": 56,
   "id": "66911c8f",
   "metadata": {},
   "outputs": [
    {
     "data": {
      "text/plain": [
       "True"
      ]
     },
     "execution_count": 56,
     "metadata": {},
     "output_type": "execute_result"
    }
   ],
   "source": [
    "timothy.sun_loving"
   ]
  },
  {
   "cell_type": "code",
   "execution_count": 61,
   "id": "88f21b02",
   "metadata": {},
   "outputs": [
    {
     "data": {
      "text/plain": [
       "500"
      ]
     },
     "execution_count": 61,
     "metadata": {},
     "output_type": "execute_result"
    }
   ],
   "source": [
    "timothy.biomass"
   ]
  },
  {
   "cell_type": "code",
   "execution_count": 62,
   "id": "be03b621",
   "metadata": {},
   "outputs": [
    {
     "name": "stdout",
     "output_type": "stream",
     "text": [
      "new biomass=2500.0 and new number_of_pl=1000\n"
     ]
    }
   ],
   "source": [
    "timothy.fertilizer(\"Plantafol\", 20, 0.1, 0)"
   ]
  },
  {
   "cell_type": "code",
   "execution_count": 63,
   "id": "b753c604",
   "metadata": {},
   "outputs": [
    {
     "name": "stdout",
     "output_type": "stream",
     "text": [
      "new biomass=5250.0 and new number_of_pl=11000\n"
     ]
    }
   ],
   "source": [
    "timothy.fertilizer(\"FloraBloom\", 5, 0.05, 10)"
   ]
  },
  {
   "cell_type": "code",
   "execution_count": 64,
   "id": "c7ac9e4d",
   "metadata": {},
   "outputs": [
    {
     "name": "stdout",
     "output_type": "stream",
     "text": [
      "new biomass=71250.0 and new number_of_pl=66000\n"
     ]
    }
   ],
   "source": [
    "timothy.fertilizer(\"BioBloom\", 10, 0.1, 5)"
   ]
  },
  {
   "cell_type": "code",
   "execution_count": 81,
   "id": "50fc6271",
   "metadata": {},
   "outputs": [],
   "source": [
    "class Flowers(Plants):\n",
    "    def __init__(self, number_of_pl, sun_loving, life_form, biomass, color):\n",
    "        super().__init__()\n",
    "        self.color = color\n",
    "    def watering(self, n_times, volume):\n",
    "        if n_times*volume > 500:\n",
    "            print(\"Flowers are beatiful\")\n",
    "        else:\n",
    "            print(\"Your flowers are dying\")"
   ]
  },
  {
   "cell_type": "code",
   "execution_count": 128,
   "id": "627b5d0e",
   "metadata": {},
   "outputs": [],
   "source": [
    "class Flowers(Plants):\n",
    "    def __init__(self, color, water_loving, *args, **kwargs):\n",
    "        self.color = color\n",
    "        self.water_loving = water_loving\n",
    "        super().__init__(*args, **kwargs)  \n",
    "    def watering(self, n_times, volume):\n",
    "        if (n_times*volume > self.biomass/2) & (self.water_loving == True):\n",
    "            print(\"Flowers are beatiful\")\n",
    "        elif (n_times*volume > self.biomass) & (self.water_loving == False):\n",
    "            print(\"Please water less\")\n",
    "        else:\n",
    "            print(\"Your flowers are dying\")"
   ]
  },
  {
   "cell_type": "code",
   "execution_count": 129,
   "id": "2fc1b79e",
   "metadata": {},
   "outputs": [],
   "source": [
    "lilac = Flowers(\"white\", True, 1000, True, \"grass\", 500)"
   ]
  },
  {
   "cell_type": "code",
   "execution_count": 130,
   "id": "3e38e1f3",
   "metadata": {},
   "outputs": [
    {
     "data": {
      "text/plain": [
       "'white'"
      ]
     },
     "execution_count": 130,
     "metadata": {},
     "output_type": "execute_result"
    }
   ],
   "source": [
    "lilac.color"
   ]
  },
  {
   "cell_type": "code",
   "execution_count": 131,
   "id": "e9beb7fc",
   "metadata": {},
   "outputs": [
    {
     "data": {
      "text/plain": [
       "500"
      ]
     },
     "execution_count": 131,
     "metadata": {},
     "output_type": "execute_result"
    }
   ],
   "source": [
    "lilac.biomass"
   ]
  },
  {
   "cell_type": "code",
   "execution_count": 132,
   "id": "dcd204e0",
   "metadata": {},
   "outputs": [
    {
     "name": "stdout",
     "output_type": "stream",
     "text": [
      "new biomass=6500.0 and new number_of_pl=6000\n"
     ]
    }
   ],
   "source": [
    "lilac.fertilizer(\"BioBloom\", 10, 0.1, 5)"
   ]
  },
  {
   "cell_type": "code",
   "execution_count": 133,
   "id": "b2cee3d0",
   "metadata": {},
   "outputs": [
    {
     "name": "stdout",
     "output_type": "stream",
     "text": [
      "Your flowers are dying\n"
     ]
    }
   ],
   "source": [
    "lilac.watering(10, 150)"
   ]
  },
  {
   "cell_type": "code",
   "execution_count": 134,
   "id": "1f354a34",
   "metadata": {},
   "outputs": [
    {
     "name": "stdout",
     "output_type": "stream",
     "text": [
      "Flowers are beatiful\n"
     ]
    }
   ],
   "source": [
    "lilac.watering(10, 1500)"
   ]
  },
  {
   "cell_type": "code",
   "execution_count": 135,
   "id": "e3c44fed",
   "metadata": {},
   "outputs": [],
   "source": [
    "dicentra = Flowers(\"crimson\", False, 150, False, \"grass\", 500)"
   ]
  },
  {
   "cell_type": "code",
   "execution_count": 136,
   "id": "536ca79f",
   "metadata": {},
   "outputs": [
    {
     "name": "stdout",
     "output_type": "stream",
     "text": [
      "Please water less\n"
     ]
    }
   ],
   "source": [
    "dicentra.watering(10, 1500)c"
   ]
  },
  {
   "cell_type": "code",
   "execution_count": 137,
   "id": "c8dcf02c",
   "metadata": {},
   "outputs": [
    {
     "name": "stdout",
     "output_type": "stream",
     "text": [
      "new biomass=1400.0 and new number_of_pl=900\n"
     ]
    }
   ],
   "source": [
    "dicentra.fertilizer(\"BioBloom\", 10, 0.1, 5)"
   ]
  },
  {
   "cell_type": "code",
   "execution_count": 148,
   "id": "b371a4bc",
   "metadata": {},
   "outputs": [],
   "source": [
    "class Trees(Plants):\n",
    "    def __init__(self, height, age, *args, **kwargs):\n",
    "        self.height = height\n",
    "        self.age = age\n",
    "        super().__init__(*args, **kwargs)\n",
    "    def wood(self):\n",
    "        W = self.biomass*0.7\n",
    "        print(f\"можно запасти {W} древесины\")"
   ]
  },
  {
   "cell_type": "code",
   "execution_count": 149,
   "id": "bc71822d",
   "metadata": {},
   "outputs": [],
   "source": [
    "betula = Trees(1200, 2, 200, True, \"tree\", 500)"
   ]
  },
  {
   "cell_type": "code",
   "execution_count": 151,
   "id": "b4216886",
   "metadata": {},
   "outputs": [
    {
     "name": "stdout",
     "output_type": "stream",
     "text": [
      "можно запасти 350.0 древесины\n"
     ]
    }
   ],
   "source": [
    "betula.wood()"
   ]
  }
 ],
 "metadata": {
  "kernelspec": {
   "display_name": "Python 3 (ipykernel)",
   "language": "python",
   "name": "python3"
  },
  "language_info": {
   "codemirror_mode": {
    "name": "ipython",
    "version": 3
   },
   "file_extension": ".py",
   "mimetype": "text/x-python",
   "name": "python",
   "nbconvert_exporter": "python",
   "pygments_lexer": "ipython3",
   "version": "3.9.12"
  }
 },
 "nbformat": 4,
 "nbformat_minor": 5
}
