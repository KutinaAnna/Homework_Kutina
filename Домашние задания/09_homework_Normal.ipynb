{
 "cells": [
  {
   "cell_type": "markdown",
   "id": "a87e8f04",
   "metadata": {},
   "source": [
    "## Normal\n",
    "Объединить в один датафрейм данные по всем маркам машин. Преобразовать категориальные признаки.\n",
    "\n",
    "Построить еще несколько моделей, используя подбор гиперпараметров. Сравнить между собой все построенные модели."
   ]
  },
  {
   "cell_type": "code",
   "execution_count": 1,
   "id": "582854a8",
   "metadata": {},
   "outputs": [],
   "source": [
    "import pandas as pd\n",
    "import numpy as np\n",
    "import seaborn as sns\n",
    "import matplotlib.pyplot as plt\n",
    "\n",
    "from sklearn.model_selection import train_test_split\n",
    "from sklearn.linear_model import LinearRegression, Ridge, Lasso\n",
    "from sklearn.metrics import mean_squared_error\n",
    "from sklearn.tree import DecisionTreeClassifier, plot_tree\n",
    "from mlxtend.plotting import category_scatter, plot_decision_regions\n",
    "from sklearn.metrics import accuracy_score, confusion_matrix, f1_score, precision_score, recall_score\n",
    "from sklearn.model_selection import cross_validate, cross_val_score\n",
    "import scipy.stats\n",
    "\n",
    "from sklearn.model_selection import GridSearchCV"
   ]
  },
  {
   "cell_type": "code",
   "execution_count": 2,
   "id": "21af3bbb",
   "metadata": {},
   "outputs": [],
   "source": [
    "import glob\n",
    "import os\n",
    "\n",
    "all_files = glob.glob(os.path.join(r'D:\\Курсы Питон\\Машины\\*.csv'))\n",
    "data = []\n",
    "for csv in all_files:\n",
    "    frame = pd.read_csv(csv)\n",
    "    frame['mark'] = os.path.basename(csv)[0:-4]\n",
    "    data.append(frame)\n",
    "df = pd.concat(data, ignore_index=True)"
   ]
  },
  {
   "cell_type": "code",
   "execution_count": 3,
   "id": "7e7331d7",
   "metadata": {},
   "outputs": [
    {
     "name": "stdout",
     "output_type": "stream",
     "text": [
      "<class 'pandas.core.frame.DataFrame'>\n",
      "RangeIndex: 99187 entries, 0 to 99186\n",
      "Data columns (total 10 columns):\n",
      " #   Column        Non-Null Count  Dtype  \n",
      "---  ------        --------------  -----  \n",
      " 0   model         99187 non-null  object \n",
      " 1   year          99187 non-null  int64  \n",
      " 2   price         99187 non-null  int64  \n",
      " 3   transmission  99187 non-null  object \n",
      " 4   mileage       99187 non-null  int64  \n",
      " 5   fuelType      99187 non-null  object \n",
      " 6   tax           99187 non-null  int64  \n",
      " 7   mpg           99187 non-null  float64\n",
      " 8   engineSize    99187 non-null  float64\n",
      " 9   mark          99187 non-null  object \n",
      "dtypes: float64(2), int64(4), object(4)\n",
      "memory usage: 7.6+ MB\n"
     ]
    }
   ],
   "source": [
    "df.info()"
   ]
  },
  {
   "cell_type": "code",
   "execution_count": 4,
   "id": "76aceb9f",
   "metadata": {},
   "outputs": [
    {
     "data": {
      "text/html": [
       "<div>\n",
       "<style scoped>\n",
       "    .dataframe tbody tr th:only-of-type {\n",
       "        vertical-align: middle;\n",
       "    }\n",
       "\n",
       "    .dataframe tbody tr th {\n",
       "        vertical-align: top;\n",
       "    }\n",
       "\n",
       "    .dataframe thead th {\n",
       "        text-align: right;\n",
       "    }\n",
       "</style>\n",
       "<table border=\"1\" class=\"dataframe\">\n",
       "  <thead>\n",
       "    <tr style=\"text-align: right;\">\n",
       "      <th></th>\n",
       "      <th>model</th>\n",
       "      <th>year</th>\n",
       "      <th>price</th>\n",
       "      <th>transmission</th>\n",
       "      <th>mileage</th>\n",
       "      <th>fuelType</th>\n",
       "      <th>tax</th>\n",
       "      <th>mpg</th>\n",
       "      <th>engineSize</th>\n",
       "      <th>mark</th>\n",
       "    </tr>\n",
       "  </thead>\n",
       "  <tbody>\n",
       "    <tr>\n",
       "      <th>0</th>\n",
       "      <td>A1</td>\n",
       "      <td>2017</td>\n",
       "      <td>12500</td>\n",
       "      <td>Manual</td>\n",
       "      <td>15735</td>\n",
       "      <td>Petrol</td>\n",
       "      <td>150</td>\n",
       "      <td>55.4</td>\n",
       "      <td>1.4</td>\n",
       "      <td>audi</td>\n",
       "    </tr>\n",
       "    <tr>\n",
       "      <th>1</th>\n",
       "      <td>A6</td>\n",
       "      <td>2016</td>\n",
       "      <td>16500</td>\n",
       "      <td>Automatic</td>\n",
       "      <td>36203</td>\n",
       "      <td>Diesel</td>\n",
       "      <td>20</td>\n",
       "      <td>64.2</td>\n",
       "      <td>2.0</td>\n",
       "      <td>audi</td>\n",
       "    </tr>\n",
       "  </tbody>\n",
       "</table>\n",
       "</div>"
      ],
      "text/plain": [
       "  model  year  price transmission  mileage fuelType  tax   mpg  engineSize  \\\n",
       "0    A1  2017  12500       Manual    15735   Petrol  150  55.4         1.4   \n",
       "1    A6  2016  16500    Automatic    36203   Diesel   20  64.2         2.0   \n",
       "\n",
       "   mark  \n",
       "0  audi  \n",
       "1  audi  "
      ]
     },
     "execution_count": 4,
     "metadata": {},
     "output_type": "execute_result"
    }
   ],
   "source": [
    "df.head(2)"
   ]
  },
  {
   "cell_type": "code",
   "execution_count": 5,
   "id": "5f699ea8",
   "metadata": {},
   "outputs": [
    {
     "data": {
      "text/html": [
       "<div>\n",
       "<style scoped>\n",
       "    .dataframe tbody tr th:only-of-type {\n",
       "        vertical-align: middle;\n",
       "    }\n",
       "\n",
       "    .dataframe tbody tr th {\n",
       "        vertical-align: top;\n",
       "    }\n",
       "\n",
       "    .dataframe thead th {\n",
       "        text-align: right;\n",
       "    }\n",
       "</style>\n",
       "<table border=\"1\" class=\"dataframe\">\n",
       "  <thead>\n",
       "    <tr style=\"text-align: right;\">\n",
       "      <th></th>\n",
       "      <th>year</th>\n",
       "      <th>mileage</th>\n",
       "      <th>tax</th>\n",
       "      <th>mpg</th>\n",
       "      <th>engineSize</th>\n",
       "    </tr>\n",
       "  </thead>\n",
       "  <tbody>\n",
       "    <tr>\n",
       "      <th>0</th>\n",
       "      <td>-0.041302</td>\n",
       "      <td>-0.346310</td>\n",
       "      <td>0.470307</td>\n",
       "      <td>0.014448</td>\n",
       "      <td>-0.472130</td>\n",
       "    </tr>\n",
       "    <tr>\n",
       "      <th>1</th>\n",
       "      <td>-0.512129</td>\n",
       "      <td>0.621516</td>\n",
       "      <td>-1.588264</td>\n",
       "      <td>0.559730</td>\n",
       "      <td>0.603826</td>\n",
       "    </tr>\n",
       "  </tbody>\n",
       "</table>\n",
       "</div>"
      ],
      "text/plain": [
       "       year   mileage       tax       mpg  engineSize\n",
       "0 -0.041302 -0.346310  0.470307  0.014448   -0.472130\n",
       "1 -0.512129  0.621516 -1.588264  0.559730    0.603826"
      ]
     },
     "execution_count": 5,
     "metadata": {},
     "output_type": "execute_result"
    }
   ],
   "source": [
    "from sklearn import preprocessing\n",
    "scaler = preprocessing.StandardScaler()\n",
    "standard_c = scaler.fit_transform(df[['year', 'mileage', 'tax', 'mpg', 'engineSize']])\n",
    "standard_c = pd.DataFrame(standard_c, columns =['year', 'mileage', 'tax', 'mpg', 'engineSize'])\n",
    "standard_c.head(2)"
   ]
  },
  {
   "cell_type": "code",
   "execution_count": 6,
   "id": "d78c9251",
   "metadata": {},
   "outputs": [
    {
     "data": {
      "text/html": [
       "<div>\n",
       "<style scoped>\n",
       "    .dataframe tbody tr th:only-of-type {\n",
       "        vertical-align: middle;\n",
       "    }\n",
       "\n",
       "    .dataframe tbody tr th {\n",
       "        vertical-align: top;\n",
       "    }\n",
       "\n",
       "    .dataframe thead th {\n",
       "        text-align: right;\n",
       "    }\n",
       "</style>\n",
       "<table border=\"1\" class=\"dataframe\">\n",
       "  <thead>\n",
       "    <tr style=\"text-align: right;\">\n",
       "      <th></th>\n",
       "      <th>mark</th>\n",
       "      <th>transmission</th>\n",
       "      <th>fuelType</th>\n",
       "      <th>price</th>\n",
       "    </tr>\n",
       "  </thead>\n",
       "  <tbody>\n",
       "    <tr>\n",
       "      <th>0</th>\n",
       "      <td>audi</td>\n",
       "      <td>Manual</td>\n",
       "      <td>Petrol</td>\n",
       "      <td>12500</td>\n",
       "    </tr>\n",
       "    <tr>\n",
       "      <th>1</th>\n",
       "      <td>audi</td>\n",
       "      <td>Automatic</td>\n",
       "      <td>Diesel</td>\n",
       "      <td>16500</td>\n",
       "    </tr>\n",
       "  </tbody>\n",
       "</table>\n",
       "</div>"
      ],
      "text/plain": [
       "   mark transmission fuelType  price\n",
       "0  audi       Manual   Petrol  12500\n",
       "1  audi    Automatic   Diesel  16500"
      ]
     },
     "execution_count": 6,
     "metadata": {},
     "output_type": "execute_result"
    }
   ],
   "source": [
    "car_cat = df[['mark', 'transmission', 'fuelType', 'price']]\n",
    "car_cat.head(2)"
   ]
  },
  {
   "cell_type": "code",
   "execution_count": 7,
   "id": "c2560be6",
   "metadata": {},
   "outputs": [
    {
     "data": {
      "text/html": [
       "<div>\n",
       "<style scoped>\n",
       "    .dataframe tbody tr th:only-of-type {\n",
       "        vertical-align: middle;\n",
       "    }\n",
       "\n",
       "    .dataframe tbody tr th {\n",
       "        vertical-align: top;\n",
       "    }\n",
       "\n",
       "    .dataframe thead th {\n",
       "        text-align: right;\n",
       "    }\n",
       "</style>\n",
       "<table border=\"1\" class=\"dataframe\">\n",
       "  <thead>\n",
       "    <tr style=\"text-align: right;\">\n",
       "      <th></th>\n",
       "      <th>year</th>\n",
       "      <th>mileage</th>\n",
       "      <th>tax</th>\n",
       "      <th>mpg</th>\n",
       "      <th>engineSize</th>\n",
       "      <th>mark</th>\n",
       "      <th>transmission</th>\n",
       "      <th>fuelType</th>\n",
       "      <th>price</th>\n",
       "    </tr>\n",
       "  </thead>\n",
       "  <tbody>\n",
       "    <tr>\n",
       "      <th>0</th>\n",
       "      <td>-0.041302</td>\n",
       "      <td>-0.346310</td>\n",
       "      <td>0.470307</td>\n",
       "      <td>0.014448</td>\n",
       "      <td>-0.472130</td>\n",
       "      <td>audi</td>\n",
       "      <td>Manual</td>\n",
       "      <td>Petrol</td>\n",
       "      <td>12500</td>\n",
       "    </tr>\n",
       "    <tr>\n",
       "      <th>1</th>\n",
       "      <td>-0.512129</td>\n",
       "      <td>0.621516</td>\n",
       "      <td>-1.588264</td>\n",
       "      <td>0.559730</td>\n",
       "      <td>0.603826</td>\n",
       "      <td>audi</td>\n",
       "      <td>Automatic</td>\n",
       "      <td>Diesel</td>\n",
       "      <td>16500</td>\n",
       "    </tr>\n",
       "  </tbody>\n",
       "</table>\n",
       "</div>"
      ],
      "text/plain": [
       "       year   mileage       tax       mpg  engineSize  mark transmission  \\\n",
       "0 -0.041302 -0.346310  0.470307  0.014448   -0.472130  audi       Manual   \n",
       "1 -0.512129  0.621516 -1.588264  0.559730    0.603826  audi    Automatic   \n",
       "\n",
       "  fuelType  price  \n",
       "0   Petrol  12500  \n",
       "1   Diesel  16500  "
      ]
     },
     "execution_count": 7,
     "metadata": {},
     "output_type": "execute_result"
    }
   ],
   "source": [
    "all_cars = pd.concat([standard_c, car_cat], axis=1)\n",
    "all_cars.head(2)"
   ]
  },
  {
   "cell_type": "code",
   "execution_count": 8,
   "id": "1f896e60",
   "metadata": {},
   "outputs": [
    {
     "data": {
      "text/html": [
       "<div>\n",
       "<style scoped>\n",
       "    .dataframe tbody tr th:only-of-type {\n",
       "        vertical-align: middle;\n",
       "    }\n",
       "\n",
       "    .dataframe tbody tr th {\n",
       "        vertical-align: top;\n",
       "    }\n",
       "\n",
       "    .dataframe thead th {\n",
       "        text-align: right;\n",
       "    }\n",
       "</style>\n",
       "<table border=\"1\" class=\"dataframe\">\n",
       "  <thead>\n",
       "    <tr style=\"text-align: right;\">\n",
       "      <th></th>\n",
       "      <th>year</th>\n",
       "      <th>mileage</th>\n",
       "      <th>tax</th>\n",
       "      <th>mpg</th>\n",
       "      <th>engineSize</th>\n",
       "      <th>mark_1</th>\n",
       "      <th>mark_2</th>\n",
       "      <th>mark_3</th>\n",
       "      <th>mark_4</th>\n",
       "      <th>mark_5</th>\n",
       "      <th>...</th>\n",
       "      <th>transmission_1</th>\n",
       "      <th>transmission_2</th>\n",
       "      <th>transmission_3</th>\n",
       "      <th>transmission_4</th>\n",
       "      <th>fuelType_1</th>\n",
       "      <th>fuelType_2</th>\n",
       "      <th>fuelType_3</th>\n",
       "      <th>fuelType_4</th>\n",
       "      <th>fuelType_5</th>\n",
       "      <th>price</th>\n",
       "    </tr>\n",
       "  </thead>\n",
       "  <tbody>\n",
       "    <tr>\n",
       "      <th>0</th>\n",
       "      <td>-0.041302</td>\n",
       "      <td>-0.346310</td>\n",
       "      <td>0.470307</td>\n",
       "      <td>0.014448</td>\n",
       "      <td>-0.472130</td>\n",
       "      <td>1</td>\n",
       "      <td>0</td>\n",
       "      <td>0</td>\n",
       "      <td>0</td>\n",
       "      <td>0</td>\n",
       "      <td>...</td>\n",
       "      <td>1</td>\n",
       "      <td>0</td>\n",
       "      <td>0</td>\n",
       "      <td>0</td>\n",
       "      <td>1</td>\n",
       "      <td>0</td>\n",
       "      <td>0</td>\n",
       "      <td>0</td>\n",
       "      <td>0</td>\n",
       "      <td>12500</td>\n",
       "    </tr>\n",
       "    <tr>\n",
       "      <th>1</th>\n",
       "      <td>-0.512129</td>\n",
       "      <td>0.621516</td>\n",
       "      <td>-1.588264</td>\n",
       "      <td>0.559730</td>\n",
       "      <td>0.603826</td>\n",
       "      <td>1</td>\n",
       "      <td>0</td>\n",
       "      <td>0</td>\n",
       "      <td>0</td>\n",
       "      <td>0</td>\n",
       "      <td>...</td>\n",
       "      <td>0</td>\n",
       "      <td>1</td>\n",
       "      <td>0</td>\n",
       "      <td>0</td>\n",
       "      <td>0</td>\n",
       "      <td>1</td>\n",
       "      <td>0</td>\n",
       "      <td>0</td>\n",
       "      <td>0</td>\n",
       "      <td>16500</td>\n",
       "    </tr>\n",
       "  </tbody>\n",
       "</table>\n",
       "<p>2 rows × 24 columns</p>\n",
       "</div>"
      ],
      "text/plain": [
       "       year   mileage       tax       mpg  engineSize  mark_1  mark_2  mark_3  \\\n",
       "0 -0.041302 -0.346310  0.470307  0.014448   -0.472130       1       0       0   \n",
       "1 -0.512129  0.621516 -1.588264  0.559730    0.603826       1       0       0   \n",
       "\n",
       "   mark_4  mark_5  ...  transmission_1  transmission_2  transmission_3  \\\n",
       "0       0       0  ...               1               0               0   \n",
       "1       0       0  ...               0               1               0   \n",
       "\n",
       "   transmission_4  fuelType_1  fuelType_2  fuelType_3  fuelType_4  fuelType_5  \\\n",
       "0               0           1           0           0           0           0   \n",
       "1               0           0           1           0           0           0   \n",
       "\n",
       "   price  \n",
       "0  12500  \n",
       "1  16500  \n",
       "\n",
       "[2 rows x 24 columns]"
      ]
     },
     "execution_count": 8,
     "metadata": {},
     "output_type": "execute_result"
    }
   ],
   "source": [
    "import category_encoders as ce\n",
    "encoder = ce.one_hot.OneHotEncoder(cols=['mark', 'transmission', 'fuelType'])\n",
    "all_cars = encoder.fit_transform(all_cars)\n",
    "all_cars.head(2)"
   ]
  },
  {
   "cell_type": "code",
   "execution_count": 9,
   "id": "fe96249c",
   "metadata": {},
   "outputs": [],
   "source": [
    "Xa = all_cars.drop(['price'], axis=1)\n",
    "Ya = all_cars['price']"
   ]
  },
  {
   "cell_type": "code",
   "execution_count": 10,
   "id": "249b9665",
   "metadata": {},
   "outputs": [],
   "source": [
    "xa_train, xa_test, ya_train, ya_test = train_test_split(Xa, Ya, train_size=0.8)"
   ]
  },
  {
   "cell_type": "code",
   "execution_count": 11,
   "id": "afe06a66",
   "metadata": {},
   "outputs": [
    {
     "data": {
      "text/plain": [
       "0.7592562789823873"
      ]
     },
     "execution_count": 11,
     "metadata": {},
     "output_type": "execute_result"
    }
   ],
   "source": [
    "from sklearn.metrics import r2_score\n",
    "\n",
    "lr = LinearRegression()\n",
    "lr.fit(xa_train, ya_train)\n",
    "\n",
    "ya_lr_pred = lr.predict(xa_test)\n",
    "r2_score(ya_test, ya_lr_pred)"
   ]
  },
  {
   "cell_type": "code",
   "execution_count": 12,
   "id": "6ee383c8",
   "metadata": {},
   "outputs": [
    {
     "data": {
      "text/plain": [
       "<matplotlib.collections.PathCollection at 0x1c2ca1dcbb0>"
      ]
     },
     "execution_count": 12,
     "metadata": {},
     "output_type": "execute_result"
    },
    {
     "data": {
      "image/png": "[encoded data removed]",
      "text/plain": [
       "<Figure size 432x288 with 1 Axes>"
      ]
     },
     "metadata": {
      "needs_background": "light"
     },
     "output_type": "display_data"
    }
   ],
   "source": [
    "plt.scatter(ya_lr_pred, ya_test)"
   ]
  },
  {
   "cell_type": "code",
   "execution_count": 14,
   "id": "e4357acf",
   "metadata": {},
   "outputs": [
    {
     "data": {
      "text/plain": [
       "0.8928221682127859"
      ]
     },
     "execution_count": 14,
     "metadata": {},
     "output_type": "execute_result"
    }
   ],
   "source": [
    "from sklearn.pipeline import make_pipeline\n",
    "from sklearn.preprocessing import PolynomialFeatures\n",
    "from sklearn.linear_model import Ridge, Lasso\n",
    "from sklearn import linear_model\n",
    "\n",
    "poly_lr = make_pipeline(\n",
    "    PolynomialFeatures(degree=3, include_bias=False),\n",
    "    linear_model.Ridge(),\n",
    ")\n",
    "poly_lr.fit(xa_train, ya_train)\n",
    "ya_poly_lr_pred = poly_lr.predict(xa_test)\n",
    "r2_score(ya_test, ya_poly_lr_pred)"
   ]
  },
  {
   "cell_type": "code",
   "execution_count": 15,
   "id": "7edf39d6",
   "metadata": {
    "scrolled": true
   },
   "outputs": [
    {
     "data": {
      "text/plain": [
       "<matplotlib.collections.PathCollection at 0x1c2d20d4910>"
      ]
     },
     "execution_count": 15,
     "metadata": {},
     "output_type": "execute_result"
    },
    {
     "data": {
      "image/png": "[encoded data removed]",
      "text/plain": [
       "<Figure size 432x288 with 1 Axes>"
      ]
     },
     "metadata": {
      "needs_background": "light"
     },
     "output_type": "display_data"
    }
   ],
   "source": [
    "plt.scatter(ya_poly_lr_pred, ya_test)"
   ]
  },
  {
   "cell_type": "code",
   "execution_count": 16,
   "id": "28e2bfb4",
   "metadata": {},
   "outputs": [
    {
     "name": "stderr",
     "output_type": "stream",
     "text": [
      "D:\\anaconda3\\lib\\site-packages\\sklearn\\linear_model\\_coordinate_descent.py:647: ConvergenceWarning: Objective did not converge. You might want to increase the number of iterations, check the scale of the features or consider increasing regularisation. Duality gap: 3.821e+11, tolerance: 7.696e+08\n",
      "  model = cd_fast.enet_coordinate_descent(\n"
     ]
    },
    {
     "data": {
      "text/plain": [
       "0.8926169773366686"
      ]
     },
     "execution_count": 16,
     "metadata": {},
     "output_type": "execute_result"
    }
   ],
   "source": [
    "poly_lrl = make_pipeline(\n",
    "    PolynomialFeatures(degree=3, include_bias=False),\n",
    "    linear_model.Lasso()\n",
    ")\n",
    "poly_lrl.fit(xa_train, ya_train)\n",
    "ya_poly_lrl_pred = poly_lrl.predict(xa_test)\n",
    "r2_score(ya_test, ya_poly_lrl_pred)"
   ]
  },
  {
   "cell_type": "code",
   "execution_count": 17,
   "id": "5987911d",
   "metadata": {},
   "outputs": [
    {
     "data": {
      "text/plain": [
       "<matplotlib.collections.PathCollection at 0x1c2d349ab80>"
      ]
     },
     "execution_count": 17,
     "metadata": {},
     "output_type": "execute_result"
    },
    {
     "data": {
      "image/png": "[encoded data removed]",
      "text/plain": [
       "<Figure size 432x288 with 1 Axes>"
      ]
     },
     "metadata": {
      "needs_background": "light"
     },
     "output_type": "display_data"
    }
   ],
   "source": [
    "plt.scatter(ya_poly_lrl_pred, ya_test)"
   ]
  },
  {
   "cell_type": "code",
   "execution_count": 19,
   "id": "3131cae4",
   "metadata": {},
   "outputs": [
    {
     "data": {
      "text/plain": [
       "0.935346866949768"
      ]
     },
     "execution_count": 19,
     "metadata": {},
     "output_type": "execute_result"
    }
   ],
   "source": [
    "from sklearn.ensemble import RandomForestRegressor\n",
    "\n",
    "rf = RandomForestRegressor(max_depth=40, min_samples_leaf=2, min_samples_split=5, n_estimators=400)\n",
    "rf.fit(xa_train, ya_train)\n",
    "ya_rf_pred = rf.predict(xa_test)\n",
    "r2_score(ya_test, ya_rf_pred)"
   ]
  },
  {
   "cell_type": "code",
   "execution_count": 20,
   "id": "fac09329",
   "metadata": {},
   "outputs": [
    {
     "data": {
      "text/plain": [
       "<matplotlib.collections.PathCollection at 0x1c2d3406970>"
      ]
     },
     "execution_count": 20,
     "metadata": {},
     "output_type": "execute_result"
    },
    {
     "data": {
      "image/png": "[encoded data removed]",
      "text/plain": [
       "<Figure size 432x288 with 1 Axes>"
      ]
     },
     "metadata": {
      "needs_background": "light"
     },
     "output_type": "display_data"
    }
   ],
   "source": [
    "plt.scatter(ya_rf_pred, ya_test)"
   ]
  },
  {
   "cell_type": "code",
   "execution_count": 21,
   "id": "367e1c5e",
   "metadata": {},
   "outputs": [],
   "source": [
    "from sklearn.ensemble import GradientBoostingRegressor\n",
    "from sklearn.ensemble import AdaBoostRegressor"
   ]
  },
  {
   "cell_type": "code",
   "execution_count": 22,
   "id": "2c875374",
   "metadata": {},
   "outputs": [
    {
     "data": {
      "text/plain": [
       "0.8836022256597764"
      ]
     },
     "execution_count": 22,
     "metadata": {},
     "output_type": "execute_result"
    }
   ],
   "source": [
    "RGB = GradientBoostingRegressor()\n",
    "RGB.fit(xa_train, ya_train)\n",
    "\n",
    "ya_RGB_pred = RGB.predict(xa_test)\n",
    "r2_score(ya_test, ya_RGB_pred)"
   ]
  },
  {
   "cell_type": "code",
   "execution_count": 23,
   "id": "3692c2a3",
   "metadata": {},
   "outputs": [
    {
     "data": {
      "text/plain": [
       "<matplotlib.collections.PathCollection at 0x1c2d3ba49a0>"
      ]
     },
     "execution_count": 23,
     "metadata": {},
     "output_type": "execute_result"
    },
    {
     "data": {
      "image/png": "[encoded data removed]",
      "text/plain": [
       "<Figure size 432x288 with 1 Axes>"
      ]
     },
     "metadata": {
      "needs_background": "light"
     },
     "output_type": "display_data"
    }
   ],
   "source": [
    "plt.scatter(ya_RGB_pred, ya_test)"
   ]
  },
  {
   "cell_type": "code",
   "execution_count": 24,
   "id": "418394e0",
   "metadata": {},
   "outputs": [
    {
     "data": {
      "text/plain": [
       "0.5168730927078475"
      ]
     },
     "execution_count": 24,
     "metadata": {},
     "output_type": "execute_result"
    }
   ],
   "source": [
    "AdaB = AdaBoostRegressor()\n",
    "AdaB.fit(xa_train, ya_train)\n",
    "\n",
    "ya_AdaB_pred = AdaB.predict(xa_test)\n",
    "r2_score(ya_test, ya_AdaB_pred)"
   ]
  },
  {
   "cell_type": "code",
   "execution_count": 25,
   "id": "51f341b0",
   "metadata": {},
   "outputs": [
    {
     "data": {
      "text/plain": [
       "<matplotlib.collections.PathCollection at 0x1c2d3c18250>"
      ]
     },
     "execution_count": 25,
     "metadata": {},
     "output_type": "execute_result"
    },
    {
     "data": {
      "image/png": "[encoded data removed]",
      "text/plain": [
       "<Figure size 432x288 with 1 Axes>"
      ]
     },
     "metadata": {
      "needs_background": "light"
     },
     "output_type": "display_data"
    }
   ],
   "source": [
    "plt.scatter(ya_AdaB_pred, ya_test)"
   ]
  },
  {
   "cell_type": "markdown",
   "id": "92482f8f",
   "metadata": {},
   "source": [
    "Стекинг"
   ]
  },
  {
   "cell_type": "code",
   "execution_count": 27,
   "id": "98a1dd31",
   "metadata": {},
   "outputs": [],
   "source": [
    "from sklearn.ensemble import StackingRegressor\n",
    "\n",
    "estimators2 = [\n",
    "    ('LinReg', LinearRegression()),\n",
    "    ('RFR', RandomForestRegressor(max_depth=40, min_samples_leaf=2, min_samples_split=5, n_estimators=400)),\n",
    "    ('GBR', GradientBoostingRegressor())\n",
    "]\n",
    "clf2=StackingRegressor(estimators=estimators2, final_estimator=make_pipeline(PolynomialFeatures(degree=3, include_bias=False), linear_model.Lasso()))"
   ]
  },
  {
   "cell_type": "code",
   "execution_count": 28,
   "id": "54638998",
   "metadata": {},
   "outputs": [
    {
     "name": "stderr",
     "output_type": "stream",
     "text": [
      "D:\\anaconda3\\lib\\site-packages\\sklearn\\linear_model\\_coordinate_descent.py:647: ConvergenceWarning: Objective did not converge. You might want to increase the number of iterations, check the scale of the features or consider increasing regularisation. Duality gap: 2.114e+11, tolerance: 7.696e+08\n",
      "  model = cd_fast.enet_coordinate_descent(\n"
     ]
    },
    {
     "data": {
      "text/plain": [
       "0.9365161699516484"
      ]
     },
     "execution_count": 28,
     "metadata": {},
     "output_type": "execute_result"
    }
   ],
   "source": [
    "clf2.fit(xa_train, ya_train)\n",
    "ya_clf2_pred = clf2.predict(xa_test)\n",
    "r2_score(ya_test, ya_clf2_pred)"
   ]
  },
  {
   "cell_type": "code",
   "execution_count": 29,
   "id": "7b64abc5",
   "metadata": {},
   "outputs": [
    {
     "data": {
      "text/plain": [
       "<matplotlib.collections.PathCollection at 0x1c2db0f7490>"
      ]
     },
     "execution_count": 29,
     "metadata": {},
     "output_type": "execute_result"
    },
    {
     "data": {
      "image/png": "[encoded data removed]",
      "text/plain": [
       "<Figure size 432x288 with 1 Axes>"
      ]
     },
     "metadata": {
      "needs_background": "light"
     },
     "output_type": "display_data"
    }
   ],
   "source": [
    "plt.scatter(ya_clf2_pred, ya_test)"
   ]
  },
  {
   "cell_type": "markdown",
   "id": "bc7c78d1",
   "metadata": {},
   "source": [
    "### Подбор гиперпараметров"
   ]
  },
  {
   "cell_type": "code",
   "execution_count": 46,
   "id": "9d814b92",
   "metadata": {},
   "outputs": [],
   "source": [
    "from sklearn.model_selection import GridSearchCV"
   ]
  },
  {
   "cell_type": "code",
   "execution_count": 47,
   "id": "2dbf1a40",
   "metadata": {},
   "outputs": [],
   "source": [
    "params = {'max_depth': [10, 20, 30, 40, 50, 60, 70, 80, 90, 100],\n",
    "    'min_samples_leaf': [1, 2, 4],\n",
    "    'min_samples_split': [2, 5, 10],\n",
    "    'n_estimators': [100, 200, 300, 400, 500]}"
   ]
  },
  {
   "cell_type": "code",
   "execution_count": null,
   "id": "c6067a1b",
   "metadata": {},
   "outputs": [],
   "source": [
    "search = GridSearchCV(RandomForestRegressor(), params)\n",
    "search.fit(xa_train, ya_train)\n",
    "print('Best Params: ', search.best_estimator_)"
   ]
  },
  {
   "cell_type": "markdown",
   "id": "6a7ae8ea",
   "metadata": {},
   "source": [
    "## Сравнение построенных моделей"
   ]
  },
  {
   "cell_type": "code",
   "execution_count": 30,
   "id": "bf34f2d3",
   "metadata": {},
   "outputs": [],
   "source": [
    "from sklearn.model_selection import cross_validate, cross_val_score\n",
    "import scipy.stats"
   ]
  },
  {
   "cell_type": "code",
   "execution_count": 31,
   "id": "e1819f52",
   "metadata": {},
   "outputs": [
    {
     "name": "stderr",
     "output_type": "stream",
     "text": [
      "D:\\anaconda3\\lib\\site-packages\\sklearn\\linear_model\\_coordinate_descent.py:647: ConvergenceWarning: Objective did not converge. You might want to increase the number of iterations, check the scale of the features or consider increasing regularisation. Duality gap: 3.552e+11, tolerance: 7.187e+08\n",
      "  model = cd_fast.enet_coordinate_descent(\n",
      "D:\\anaconda3\\lib\\site-packages\\sklearn\\linear_model\\_coordinate_descent.py:647: ConvergenceWarning: Objective did not converge. You might want to increase the number of iterations, check the scale of the features or consider increasing regularisation. Duality gap: 3.513e+11, tolerance: 7.136e+08\n",
      "  model = cd_fast.enet_coordinate_descent(\n",
      "D:\\anaconda3\\lib\\site-packages\\sklearn\\linear_model\\_coordinate_descent.py:647: ConvergenceWarning: Objective did not converge. You might want to increase the number of iterations, check the scale of the features or consider increasing regularisation. Duality gap: 3.544e+11, tolerance: 7.169e+08\n",
      "  model = cd_fast.enet_coordinate_descent(\n",
      "D:\\anaconda3\\lib\\site-packages\\sklearn\\linear_model\\_coordinate_descent.py:647: ConvergenceWarning: Objective did not converge. You might want to increase the number of iterations, check the scale of the features or consider increasing regularisation. Duality gap: 3.601e+11, tolerance: 7.208e+08\n",
      "  model = cd_fast.enet_coordinate_descent(\n",
      "D:\\anaconda3\\lib\\site-packages\\sklearn\\linear_model\\_coordinate_descent.py:647: ConvergenceWarning: Objective did not converge. You might want to increase the number of iterations, check the scale of the features or consider increasing regularisation. Duality gap: 3.545e+11, tolerance: 7.165e+08\n",
      "  model = cd_fast.enet_coordinate_descent(\n",
      "D:\\anaconda3\\lib\\site-packages\\sklearn\\linear_model\\_coordinate_descent.py:647: ConvergenceWarning: Objective did not converge. You might want to increase the number of iterations, check the scale of the features or consider increasing regularisation. Duality gap: 3.598e+11, tolerance: 7.212e+08\n",
      "  model = cd_fast.enet_coordinate_descent(\n",
      "D:\\anaconda3\\lib\\site-packages\\sklearn\\linear_model\\_coordinate_descent.py:647: ConvergenceWarning: Objective did not converge. You might want to increase the number of iterations, check the scale of the features or consider increasing regularisation. Duality gap: 3.566e+11, tolerance: 7.179e+08\n",
      "  model = cd_fast.enet_coordinate_descent(\n",
      "D:\\anaconda3\\lib\\site-packages\\sklearn\\linear_model\\_coordinate_descent.py:647: ConvergenceWarning: Objective did not converge. You might want to increase the number of iterations, check the scale of the features or consider increasing regularisation. Duality gap: 3.567e+11, tolerance: 7.173e+08\n",
      "  model = cd_fast.enet_coordinate_descent(\n",
      "D:\\anaconda3\\lib\\site-packages\\sklearn\\linear_model\\_coordinate_descent.py:647: ConvergenceWarning: Objective did not converge. You might want to increase the number of iterations, check the scale of the features or consider increasing regularisation. Duality gap: 3.572e+11, tolerance: 7.185e+08\n",
      "  model = cd_fast.enet_coordinate_descent(\n",
      "D:\\anaconda3\\lib\\site-packages\\sklearn\\linear_model\\_coordinate_descent.py:647: ConvergenceWarning: Objective did not converge. You might want to increase the number of iterations, check the scale of the features or consider increasing regularisation. Duality gap: 3.601e+11, tolerance: 7.206e+08\n",
      "  model = cd_fast.enet_coordinate_descent(\n",
      "D:\\anaconda3\\lib\\site-packages\\sklearn\\linear_model\\_coordinate_descent.py:647: ConvergenceWarning: Objective did not converge. You might want to increase the number of iterations, check the scale of the features or consider increasing regularisation. Duality gap: 3.557e+11, tolerance: 7.203e+08\n",
      "  model = cd_fast.enet_coordinate_descent(\n",
      "D:\\anaconda3\\lib\\site-packages\\sklearn\\linear_model\\_coordinate_descent.py:647: ConvergenceWarning: Objective did not converge. You might want to increase the number of iterations, check the scale of the features or consider increasing regularisation. Duality gap: 3.488e+11, tolerance: 7.142e+08\n",
      "  model = cd_fast.enet_coordinate_descent(\n",
      "D:\\anaconda3\\lib\\site-packages\\sklearn\\linear_model\\_coordinate_descent.py:647: ConvergenceWarning: Objective did not converge. You might want to increase the number of iterations, check the scale of the features or consider increasing regularisation. Duality gap: 3.592e+11, tolerance: 7.235e+08\n",
      "  model = cd_fast.enet_coordinate_descent(\n",
      "D:\\anaconda3\\lib\\site-packages\\sklearn\\linear_model\\_coordinate_descent.py:647: ConvergenceWarning: Objective did not converge. You might want to increase the number of iterations, check the scale of the features or consider increasing regularisation. Duality gap: 3.532e+11, tolerance: 7.155e+08\n",
      "  model = cd_fast.enet_coordinate_descent(\n",
      "D:\\anaconda3\\lib\\site-packages\\sklearn\\linear_model\\_coordinate_descent.py:647: ConvergenceWarning: Objective did not converge. You might want to increase the number of iterations, check the scale of the features or consider increasing regularisation. Duality gap: 3.585e+11, tolerance: 7.193e+08\n",
      "  model = cd_fast.enet_coordinate_descent(\n"
     ]
    }
   ],
   "source": [
    "sample_lr = cross_validate(lr, xa_train, ya_train, scoring=['r2'], cv=15)\n",
    "sample_poly_lr = cross_validate(poly_lr, xa_train, ya_train, scoring=['r2'], cv=15)\n",
    "sample_poly_lrl = cross_validate(poly_lrl, xa_train, ya_train, scoring=['r2'], cv=15)\n",
    "sample_rf = cross_validate(rf, xa_train, ya_train, scoring=['r2'], cv=15)\n",
    "sample_RGB = cross_validate(RGB, xa_train, ya_train, scoring=['r2'], cv=15)\n",
    "sample_AdaB = cross_validate(AdaB, xa_train, ya_train, scoring=['r2'], cv=15)"
   ]
  },
  {
   "cell_type": "code",
   "execution_count": 32,
   "id": "c89a86f1",
   "metadata": {},
   "outputs": [
    {
     "data": {
      "text/plain": [
       "(232.176850557623, 1.2889130478197282e-47)"
      ]
     },
     "execution_count": 32,
     "metadata": {},
     "output_type": "execute_result"
    }
   ],
   "source": [
    "from scipy import stats\n",
    "F, p = stats.f_oneway(sample_lr['test_r2'], sample_poly_lr['test_r2'], sample_poly_lrl['test_r2'], sample_rf['test_r2'], sample_RGB['test_r2'], sample_AdaB['test_r2']) # однофакторный дисперсионный анализ\n",
    "F_test = stats.f.ppf((1-0.05), 4, 15)\n",
    "F, p"
   ]
  },
  {
   "cell_type": "code",
   "execution_count": 33,
   "id": "ac90b8c9",
   "metadata": {},
   "outputs": [
    {
     "data": {
      "text/plain": [
       "(0.7673809273251088,\n",
       " 0.8751808393203857,\n",
       " 0.8856880962993906,\n",
       " 0.9456348092857078,\n",
       " 0.8930154752020975,\n",
       " 0.3831716990986674)"
      ]
     },
     "execution_count": 33,
     "metadata": {},
     "output_type": "execute_result"
    }
   ],
   "source": [
    "sample_lr['test_r2'].mean(), sample_poly_lr['test_r2'].mean(), sample_poly_lrl['test_r2'].mean(), sample_rf['test_r2'].mean(), sample_RGB['test_r2'].mean(), sample_AdaB['test_r2'].mean()"
   ]
  },
  {
   "cell_type": "markdown",
   "id": "8fa932fc",
   "metadata": {},
   "source": [
    "Случайный лес дает наиулучший результат"
   ]
  }
 ],
 "metadata": {
  "kernelspec": {
   "display_name": "Python 3 (ipykernel)",
   "language": "python",
   "name": "python3"
  },
  "language_info": {
   "codemirror_mode": {
    "name": "ipython",
    "version": 3
   },
   "file_extension": ".py",
   "mimetype": "text/x-python",
   "name": "python",
   "nbconvert_exporter": "python",
   "pygments_lexer": "ipython3",
   "version": "3.9.12"
  }
 },
 "nbformat": 4,
 "nbformat_minor": 5
}
