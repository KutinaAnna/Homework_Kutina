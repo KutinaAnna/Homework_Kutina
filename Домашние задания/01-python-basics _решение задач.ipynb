{
 "cells": [
  {
   "cell_type": "markdown",
   "metadata": {},
   "source": [
    "## Задача\n",
    "\n",
    "Перевести к типу `int` переменную float_variable."
   ]
  },
  {
   "cell_type": "code",
   "execution_count": 9,
   "metadata": {},
   "outputs": [
    {
     "data": {
      "text/plain": [
       "1"
      ]
     },
     "execution_count": 9,
     "metadata": {},
     "output_type": "execute_result"
    }
   ],
   "source": [
    "# Ваш код здесь\n",
    "int(float_variable)"
   ]
  },
  {
   "cell_type": "markdown",
   "metadata": {},
   "source": [
    "## Задача\n",
    "\n",
    "Проверить, делится ли число 85439372 нацело на 3. Для этого можно использовать оператор `%` - остаток от деления"
   ]
  },
  {
   "cell_type": "code",
   "execution_count": 13,
   "metadata": {},
   "outputs": [
    {
     "data": {
      "text/plain": [
       "False"
      ]
     },
     "execution_count": 13,
     "metadata": {},
     "output_type": "execute_result"
    }
   ],
   "source": [
    "# Ваш код здесь\n",
    "(85439372 % 3)==0"
   ]
  },
  {
   "cell_type": "markdown",
   "metadata": {},
   "source": [
    "## Задача\n",
    "\n",
    "Вывести числа от 10 до 1 (в обратном порядке)"
   ]
  },
  {
   "cell_type": "code",
   "execution_count": 24,
   "metadata": {},
   "outputs": [
    {
     "name": "stdout",
     "output_type": "stream",
     "text": [
      "10 9 8 7 6 5 4 3 2 1 0 "
     ]
    }
   ],
   "source": [
    "# Ваш код здесь\n",
    "for i in range(11):\n",
    "    print(10-i, end=\" \")"
   ]
  },
  {
   "cell_type": "code",
   "execution_count": 41,
   "metadata": {},
   "outputs": [
    {
     "name": "stdout",
     "output_type": "stream",
     "text": [
      "[10, 9, 8, 7, 6, 5, 4, 3, 2, 1, 0]\n"
     ]
    }
   ],
   "source": [
    "list_pr = list(range(11))\n",
    "list_obr = str(list_pr[::-1])\n",
    "print(list_obr) #напрямую список в строку не преобразовать"
   ]
  },
  {
   "cell_type": "code",
   "execution_count": 40,
   "metadata": {},
   "outputs": [
    {
     "name": "stdout",
     "output_type": "stream",
     "text": [
      "10 9 8 7 6 5 4 3 2 1 0\n"
     ]
    }
   ],
   "source": [
    "list_pr = list(range(11))\n",
    "list_obr = list_pr[::-1]\n",
    "print(\" \".join(map(str,list_obr)))"
   ]
  },
  {
   "cell_type": "code",
   "execution_count": 48,
   "metadata": {},
   "outputs": [
    {
     "name": "stdout",
     "output_type": "stream",
     "text": [
      "10 9 8 7 6 5 4 3 2 1 0 "
     ]
    }
   ],
   "source": [
    "list_pr = list(range(11))\n",
    "for i in list_pr[::-1]:\n",
    "    print(i + 0, end=\" \")"
   ]
  },
  {
   "cell_type": "markdown",
   "metadata": {},
   "source": [
    "## Задача\n",
    "\n",
    "Вывести числа от 0 до 1 с шагом 0.1"
   ]
  },
  {
   "cell_type": "code",
   "execution_count": 20,
   "metadata": {},
   "outputs": [
    {
     "name": "stdout",
     "output_type": "stream",
     "text": [
      "0.0 0.1 0.2 0.3 0.4 0.5 0.6 0.7 0.8 0.9 1.0 "
     ]
    }
   ],
   "source": [
    "# Ваш код здесь\n",
    "for i in range(11):\n",
    "    print(i/10, end=\" \")"
   ]
  },
  {
   "cell_type": "markdown",
   "metadata": {},
   "source": [
    "## Задача\n",
    "\n",
    "Создать список из из четных значений, которые делятся на 3 из диапазона от 0 до 100"
   ]
  },
  {
   "cell_type": "code",
   "execution_count": 56,
   "metadata": {},
   "outputs": [
    {
     "name": "stdout",
     "output_type": "stream",
     "text": [
      "0 6 12 18 24 30 36 42 48 54 60 66 72 78 84 90 96 "
     ]
    }
   ],
   "source": [
    "# Ваш код здесь - сначала код для генерации нужных чисел\n",
    "for i in range(0, 33, 2):\n",
    "    print(i*3, end=\" \")"
   ]
  },
  {
   "cell_type": "code",
   "execution_count": 61,
   "metadata": {},
   "outputs": [
    {
     "name": "stdout",
     "output_type": "stream",
     "text": [
      "[0, 6, 12, 18, 24, 30, 36, 42, 48, 54, 60, 66, 72, 78, 84, 90, 96]\n"
     ]
    }
   ],
   "source": [
    "chet3_list1 = []\n",
    "for i in range(0, 33, 2):\n",
    "    chet3_list1.append(i*3)\n",
    "print(chet3_list1)"
   ]
  },
  {
   "cell_type": "code",
   "execution_count": 59,
   "metadata": {},
   "outputs": [
    {
     "name": "stdout",
     "output_type": "stream",
     "text": [
      "[0, 6, 12, 18, 24, 30, 36, 42, 48, 54, 60, 66, 72, 78, 84, 90, 96]\n"
     ]
    }
   ],
   "source": [
    "chet3_list2 = [i*3 for i in range(0, 33, 2)]\n",
    "print(chet3_list2)"
   ]
  },
  {
   "cell_type": "markdown",
   "metadata": {},
   "source": [
    "## Задача\n",
    "\n",
    "Вывести все четные числа среди квадратов чисел от 1 до 100."
   ]
  },
  {
   "cell_type": "code",
   "execution_count": 63,
   "metadata": {},
   "outputs": [
    {
     "name": "stdout",
     "output_type": "stream",
     "text": [
      "0 4 16 36 64 100 144 196 256 324 400 484 576 676 784 900 1024 1156 1296 1444 1600 1764 1936 2116 2304 2500 2704 2916 3136 3364 3600 3844 4096 4356 4624 4900 5184 5476 5776 6084 6400 6724 7056 7396 7744 8100 8464 8836 9216 9604 10000 "
     ]
    }
   ],
   "source": [
    "# Ваш код здесь\n",
    "for i in range(0, 101, 2):\n",
    "    print(i**2, end=\" \")"
   ]
  },
  {
   "cell_type": "markdown",
   "metadata": {},
   "source": [
    "## Задача\n",
    "\n",
    "Дан словарь, который сопоставляет номер месяца с его названием. Сделать обратный словарь, который будет сопоставлять названию месяца его номер.\n",
    "\n",
    "Нельзя вручную задавать новый словарь."
   ]
  },
  {
   "cell_type": "code",
   "execution_count": 9,
   "metadata": {},
   "outputs": [
    {
     "name": "stdout",
     "output_type": "stream",
     "text": [
      "{'Январь': 1, 'Февраль': 2, 'Март': 3, 'Апрель': 4, 'Май': 5, 'Июнь': 6, 'Июль': 7, 'Август': 8, 'Сентябрь': 9, 'Октябрь': 10, 'Ноябрь': 11, 'Декабрь': 12}\n"
     ]
    }
   ],
   "source": [
    "month_dict = {\n",
    "    1: 'Январь',\n",
    "    2: 'Февраль',\n",
    "    3: 'Март',\n",
    "    4: 'Апрель',\n",
    "    5: 'Май',\n",
    "    6: 'Июнь',\n",
    "    7: 'Июль',\n",
    "    8: 'Август',\n",
    "    9: 'Сентябрь',\n",
    "    10: 'Октябрь',\n",
    "    11: 'Ноябрь',\n",
    "    12: 'Декабрь'\n",
    "}\n",
    "\n",
    "# Ваш код здесь\n",
    "values = list(month_dict.keys())\n",
    "keys = list(month_dict.values())\n",
    "new_month_dict = {keys[i]: values[i] for i in range(len(keys))}\n",
    "print(new_month_dict)"
   ]
  },
  {
   "cell_type": "code",
   "execution_count": 7,
   "metadata": {},
   "outputs": [
    {
     "name": "stdout",
     "output_type": "stream",
     "text": [
      "[1, 2, 3, 4, 5, 6, 7, 8, 9, 10, 11, 12]\n"
     ]
    }
   ],
   "source": [
    "values = list(month_dict.keys())\n",
    "print(values)"
   ]
  },
  {
   "cell_type": "code",
   "execution_count": 8,
   "metadata": {},
   "outputs": [
    {
     "name": "stdout",
     "output_type": "stream",
     "text": [
      "['Январь', 'Февраль', 'Март', 'Апрель', 'Май', 'Июнь', 'Июль', 'Август', 'Сентябрь', 'Октябрь', 'Ноябрь', 'Декабрь']\n"
     ]
    }
   ],
   "source": [
    "keys = list(month_dict.values())\n",
    "print(keys)"
   ]
  },
  {
   "cell_type": "markdown",
   "metadata": {},
   "source": [
    "## Задача\n",
    "\n",
    "Написать функцию, которая вернет список четных чисел от a до b"
   ]
  },
  {
   "cell_type": "code",
   "execution_count": 26,
   "metadata": {},
   "outputs": [
    {
     "name": "stdout",
     "output_type": "stream",
     "text": [
      "Первое число: 37\n",
      "Второе число: 52\n"
     ]
    }
   ],
   "source": [
    "a = int(input(\"Первое число: \"))\n",
    "b = int(input(\"Второе число: \"))\n",
    "def chet_chisla(a, b):\n",
    "    if (a % 2) == 0:\n",
    "        spisok_ch = list(range(a, b+1, 2))\n",
    "    else: \n",
    "        spisok_ch = list(range(a+1, b+1, 2))\n",
    "    return spisok_ch"
   ]
  },
  {
   "cell_type": "code",
   "execution_count": 27,
   "metadata": {},
   "outputs": [
    {
     "data": {
      "text/plain": [
       "[38, 40, 42, 44, 46, 48, 50, 52]"
      ]
     },
     "execution_count": 27,
     "metadata": {},
     "output_type": "execute_result"
    }
   ],
   "source": [
    "chet_chisla(a, b)"
   ]
  },
  {
   "cell_type": "markdown",
   "metadata": {
    "tags": []
   },
   "source": [
    "## Задача\n",
    "\n",
    "Напишем функцию, которая принимает на вход любое количество аргумент и возвращает их среднее значение\n",
    "\n",
    "Пример:\n",
    "\n",
    "```python\n",
    "average(1, 2, 3)\n",
    "# 2\n",
    "\n",
    "average(1, 2, 3, 4, 5)\n",
    "# 3\n",
    "```"
   ]
  },
  {
   "cell_type": "code",
   "execution_count": 1,
   "metadata": {},
   "outputs": [],
   "source": [
    "# Ваш код здесь\n",
    "def average(*nums):\n",
    "    sum = 0\n",
    "\n",
    "    for i in nums:\n",
    "        sum += i\n",
    "\n",
    "    print(\"Mean: \", sum/i)"
   ]
  },
  {
   "cell_type": "code",
   "execution_count": 7,
   "metadata": {},
   "outputs": [
    {
     "name": "stdout",
     "output_type": "stream",
     "text": [
      "Mean:  8.892857142857142\n"
     ]
    }
   ],
   "source": [
    "average(12, 45, 56, 67, 41, 28)"
   ]
  }
 ],
 "metadata": {
  "interpreter": {
   "hash": "3c60d125f86ecb331b65a8423cf0cca4676faa8812a500d14a58b02fbd427a36"
  },
  "kernelspec": {
   "display_name": "Python 3 (ipykernel)",
   "language": "python",
   "name": "python3"
  },
  "language_info": {
   "codemirror_mode": {
    "name": "ipython",
    "version": 3
   },
   "file_extension": ".py",
   "mimetype": "text/x-python",
   "name": "python",
   "nbconvert_exporter": "python",
   "pygments_lexer": "ipython3",
   "version": "3.9.12"
  }
 },
 "nbformat": 4,
 "nbformat_minor": 4
}
