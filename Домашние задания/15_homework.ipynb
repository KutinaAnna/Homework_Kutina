{
 "cells": [
  {
   "cell_type": "markdown",
   "metadata": {
    "id": "rMx4y3nej3bM"
   },
   "source": [
    "# Домашняя работа №15"
   ]
  },
  {
   "cell_type": "markdown",
   "metadata": {
    "id": "95Vz68DSmAiK"
   },
   "source": [
    "Будем решать задачу сентимент-анализа. В архиве data/sentiment analisys.zip лежит несколько эксель файлов с твитами разных пользователей на разных языках (один файл - один язык).\n",
    "\n",
    "Нужно выбрать один из файлов и провести над ним работу."
   ]
  },
  {
   "cell_type": "markdown",
   "metadata": {
    "id": "yT4werlQtqRT"
   },
   "source": [
    "## Easy\n",
    "Оценить сбалансированность классов.\n",
    "\n",
    "Удалить пунктуацию из датасета.\n",
    "\n",
    "Преобразовать датасет в BOW или TF-IDF, поделить на треин-тест и спрогнозировать вашей любимой моделью"
   ]
  },
  {
   "cell_type": "code",
   "execution_count": 1,
   "metadata": {
    "id": "c6T_PHBUj7-M"
   },
   "outputs": [],
   "source": [
    "import numpy as np \n",
    "import pandas as pd\n",
    "from sklearn.pipeline import Pipeline\n",
    "from sklearn.feature_extraction.text import CountVectorizer\n",
    "from sklearn.feature_extraction.text import TfidfTransformer\n",
    "from sklearn.ensemble import RandomForestClassifier\n",
    "from sklearn.model_selection import train_test_split\n",
    "from sklearn.metrics import accuracy_score\n",
    "from sklearn.linear_model import LogisticRegression"
   ]
  },
  {
   "cell_type": "code",
   "execution_count": 2,
   "metadata": {
    "colab": {
     "base_uri": "https://localhost:8080/"
    },
    "id": "nxATbAEfuVbh",
    "outputId": "747b94c5-8ae1-4b10-a53f-69bf5f2d38f8"
   },
   "outputs": [
    {
     "name": "stdout",
     "output_type": "stream",
     "text": [
      "Looking in indexes: https://pypi.org/simple, https://us-python.pkg.dev/colab-wheels/public/simple/\n",
      "Requirement already satisfied: pymorphy2 in /usr/local/lib/python3.7/dist-packages (0.9.1)\n",
      "Requirement already satisfied: pymorphy2-dicts-ru<3.0,>=2.4 in /usr/local/lib/python3.7/dist-packages (from pymorphy2) (2.4.417127.4579844)\n",
      "Requirement already satisfied: docopt>=0.6 in /usr/local/lib/python3.7/dist-packages (from pymorphy2) (0.6.2)\n",
      "Requirement already satisfied: dawg-python>=0.7.1 in /usr/local/lib/python3.7/dist-packages (from pymorphy2) (0.7.2)\n"
     ]
    }
   ],
   "source": [
    "! pip install pymorphy2"
   ]
  },
  {
   "cell_type": "code",
   "execution_count": 3,
   "metadata": {
    "id": "RUTaPaacmB_C"
   },
   "outputs": [],
   "source": [
    "import pymorphy2"
   ]
  },
  {
   "cell_type": "code",
   "execution_count": 2,
   "metadata": {
    "colab": {
     "base_uri": "https://localhost:8080/",
     "height": 206
    },
    "id": "0pT42PSKx6ng",
    "outputId": "17cee23a-8b97-4e97-8193-10022f8b135b"
   },
   "outputs": [
    {
     "data": {
      "text/html": [
       "<div>\n",
       "<style scoped>\n",
       "    .dataframe tbody tr th:only-of-type {\n",
       "        vertical-align: middle;\n",
       "    }\n",
       "\n",
       "    .dataframe tbody tr th {\n",
       "        vertical-align: top;\n",
       "    }\n",
       "\n",
       "    .dataframe thead th {\n",
       "        text-align: right;\n",
       "    }\n",
       "</style>\n",
       "<table border=\"1\" class=\"dataframe\">\n",
       "  <thead>\n",
       "    <tr style=\"text-align: right;\">\n",
       "      <th></th>\n",
       "      <th>user</th>\n",
       "      <th>tweet</th>\n",
       "      <th>SENTIMENT</th>\n",
       "      <th>Unnamed: 3</th>\n",
       "      <th>Unnamed: 4</th>\n",
       "      <th>Unnamed: 5</th>\n",
       "    </tr>\n",
       "  </thead>\n",
       "  <tbody>\n",
       "    <tr>\n",
       "      <th>0</th>\n",
       "      <td>NaN</td>\n",
       "      <td>NaN</td>\n",
       "      <td>NaN</td>\n",
       "      <td>NaN</td>\n",
       "      <td>1.0</td>\n",
       "      <td>POSITIVE</td>\n",
       "    </tr>\n",
       "    <tr>\n",
       "      <th>1</th>\n",
       "      <td>BorisALV</td>\n",
       "      <td>в вост. #бирюлево на одну палатку с кошатиной ...</td>\n",
       "      <td>1</td>\n",
       "      <td>NaN</td>\n",
       "      <td>2.0</td>\n",
       "      <td>NEUTRAL</td>\n",
       "    </tr>\n",
       "    <tr>\n",
       "      <th>2</th>\n",
       "      <td>White_technolog</td>\n",
       "      <td>у районной управы собираются местные жители #б...</td>\n",
       "      <td>2</td>\n",
       "      <td>NaN</td>\n",
       "      <td>3.0</td>\n",
       "      <td>NEGATIVE</td>\n",
       "    </tr>\n",
       "    <tr>\n",
       "      <th>3</th>\n",
       "      <td>White_technolog</td>\n",
       "      <td>“@tvrain: тем временем конная полиция добралас...</td>\n",
       "      <td>2</td>\n",
       "      <td>NaN</td>\n",
       "      <td>NaN</td>\n",
       "      <td>NaN</td>\n",
       "    </tr>\n",
       "    <tr>\n",
       "      <th>4</th>\n",
       "      <td>White_technolog</td>\n",
       "      <td>в центре появились тощие прыщавые мужичонки с ...</td>\n",
       "      <td>3</td>\n",
       "      <td>NaN</td>\n",
       "      <td>NaN</td>\n",
       "      <td>NaN</td>\n",
       "    </tr>\n",
       "  </tbody>\n",
       "</table>\n",
       "</div>"
      ],
      "text/plain": [
       "              user                                              tweet  \\\n",
       "0              NaN                                                NaN   \n",
       "1         BorisALV  в вост. #бирюлево на одну палатку с кошатиной ...   \n",
       "2  White_technolog  у районной управы собираются местные жители #б...   \n",
       "3  White_technolog  “@tvrain: тем временем конная полиция добралас...   \n",
       "4  White_technolog  в центре появились тощие прыщавые мужичонки с ...   \n",
       "\n",
       "  SENTIMENT  Unnamed: 3  Unnamed: 4 Unnamed: 5  \n",
       "0       NaN         NaN         1.0   POSITIVE  \n",
       "1         1         NaN         2.0    NEUTRAL  \n",
       "2         2         NaN         3.0   NEGATIVE  \n",
       "3         2         NaN         NaN        NaN  \n",
       "4         3         NaN         NaN        NaN  "
      ]
     },
     "execution_count": 2,
     "metadata": {},
     "output_type": "execute_result"
    }
   ],
   "source": [
    "df_row = pd.read_excel(r'D:\\Курсы Питон\\Сентимент\\birulevo sentiment coded.xlsx')\n",
    "df_row.head(5)"
   ]
  },
  {
   "cell_type": "code",
   "execution_count": 3,
   "metadata": {
    "colab": {
     "base_uri": "https://localhost:8080/",
     "height": 424
    },
    "id": "ZpiCawKANCJX",
    "outputId": "17dbfda8-5221-49a3-bd47-025e42f500f2"
   },
   "outputs": [
    {
     "data": {
      "text/html": [
       "<div>\n",
       "<style scoped>\n",
       "    .dataframe tbody tr th:only-of-type {\n",
       "        vertical-align: middle;\n",
       "    }\n",
       "\n",
       "    .dataframe tbody tr th {\n",
       "        vertical-align: top;\n",
       "    }\n",
       "\n",
       "    .dataframe thead th {\n",
       "        text-align: right;\n",
       "    }\n",
       "</style>\n",
       "<table border=\"1\" class=\"dataframe\">\n",
       "  <thead>\n",
       "    <tr style=\"text-align: right;\">\n",
       "      <th></th>\n",
       "      <th>tweet</th>\n",
       "      <th>SENTIMENT</th>\n",
       "    </tr>\n",
       "  </thead>\n",
       "  <tbody>\n",
       "    <tr>\n",
       "      <th>1</th>\n",
       "      <td>в вост. #бирюлево на одну палатку с кошатиной ...</td>\n",
       "      <td>1</td>\n",
       "    </tr>\n",
       "    <tr>\n",
       "      <th>2</th>\n",
       "      <td>у районной управы собираются местные жители #б...</td>\n",
       "      <td>2</td>\n",
       "    </tr>\n",
       "    <tr>\n",
       "      <th>3</th>\n",
       "      <td>“@tvrain: тем временем конная полиция добралас...</td>\n",
       "      <td>2</td>\n",
       "    </tr>\n",
       "    <tr>\n",
       "      <th>4</th>\n",
       "      <td>в центре появились тощие прыщавые мужичонки с ...</td>\n",
       "      <td>3</td>\n",
       "    </tr>\n",
       "    <tr>\n",
       "      <th>5</th>\n",
       "      <td>как пишет товарищ в смс, на площади революции ...</td>\n",
       "      <td>3</td>\n",
       "    </tr>\n",
       "    <tr>\n",
       "      <th>...</th>\n",
       "      <td>...</td>\n",
       "      <td>...</td>\n",
       "    </tr>\n",
       "    <tr>\n",
       "      <th>1886</th>\n",
       "      <td>наш корр @dmitryhorse ведет трансляцию из #бир...</td>\n",
       "      <td>2</td>\n",
       "    </tr>\n",
       "    <tr>\n",
       "      <th>1887</th>\n",
       "      <td>“@gazetaru: #мид ответил на заявление германии...</td>\n",
       "      <td>2</td>\n",
       "    </tr>\n",
       "    <tr>\n",
       "      <th>1888</th>\n",
       "      <td>“@rt_russian: #азербайджан'ские радикалы пригр...</td>\n",
       "      <td>3</td>\n",
       "    </tr>\n",
       "    <tr>\n",
       "      <th>1889</th>\n",
       "      <td>“@rt_russian: эксклюзив: новые кадры задержани...</td>\n",
       "      <td>2</td>\n",
       "    </tr>\n",
       "    <tr>\n",
       "      <th>1890</th>\n",
       "      <td>предполагаемый убийца егора #щербаков'а в #бир...</td>\n",
       "      <td>2</td>\n",
       "    </tr>\n",
       "  </tbody>\n",
       "</table>\n",
       "<p>1890 rows × 2 columns</p>\n",
       "</div>"
      ],
      "text/plain": [
       "                                                  tweet SENTIMENT\n",
       "1     в вост. #бирюлево на одну палатку с кошатиной ...         1\n",
       "2     у районной управы собираются местные жители #б...         2\n",
       "3     “@tvrain: тем временем конная полиция добралас...         2\n",
       "4     в центре появились тощие прыщавые мужичонки с ...         3\n",
       "5     как пишет товарищ в смс, на площади революции ...         3\n",
       "...                                                 ...       ...\n",
       "1886  наш корр @dmitryhorse ведет трансляцию из #бир...         2\n",
       "1887  “@gazetaru: #мид ответил на заявление германии...         2\n",
       "1888  “@rt_russian: #азербайджан'ские радикалы пригр...         3\n",
       "1889  “@rt_russian: эксклюзив: новые кадры задержани...         2\n",
       "1890  предполагаемый убийца егора #щербаков'а в #бир...         2\n",
       "\n",
       "[1890 rows x 2 columns]"
      ]
     },
     "execution_count": 3,
     "metadata": {},
     "output_type": "execute_result"
    }
   ],
   "source": [
    "df = df_row[['tweet', 'SENTIMENT']].dropna()\n",
    "df"
   ]
  },
  {
   "cell_type": "markdown",
   "metadata": {
    "id": "Qxay2Ls8SIvX"
   },
   "source": [
    "### Оценка сбалансированности классов"
   ]
  },
  {
   "cell_type": "code",
   "execution_count": 4,
   "metadata": {
    "colab": {
     "base_uri": "https://localhost:8080/",
     "height": 206
    },
    "id": "bDR36B_qyg9J",
    "outputId": "5a2c6135-bbb1-4fed-f874-2cc8a5fac94d"
   },
   "outputs": [
    {
     "data": {
      "text/html": [
       "<div>\n",
       "<style scoped>\n",
       "    .dataframe tbody tr th:only-of-type {\n",
       "        vertical-align: middle;\n",
       "    }\n",
       "\n",
       "    .dataframe tbody tr th {\n",
       "        vertical-align: top;\n",
       "    }\n",
       "\n",
       "    .dataframe thead th {\n",
       "        text-align: right;\n",
       "    }\n",
       "</style>\n",
       "<table border=\"1\" class=\"dataframe\">\n",
       "  <thead>\n",
       "    <tr style=\"text-align: right;\">\n",
       "      <th></th>\n",
       "      <th>tweet</th>\n",
       "    </tr>\n",
       "    <tr>\n",
       "      <th>SENTIMENT</th>\n",
       "      <th></th>\n",
       "    </tr>\n",
       "  </thead>\n",
       "  <tbody>\n",
       "    <tr>\n",
       "      <th>1</th>\n",
       "      <td>131</td>\n",
       "    </tr>\n",
       "    <tr>\n",
       "      <th>2</th>\n",
       "      <td>801</td>\n",
       "    </tr>\n",
       "    <tr>\n",
       "      <th>3</th>\n",
       "      <td>952</td>\n",
       "    </tr>\n",
       "    <tr>\n",
       "      <th>IRR</th>\n",
       "      <td>6</td>\n",
       "    </tr>\n",
       "  </tbody>\n",
       "</table>\n",
       "</div>"
      ],
      "text/plain": [
       "           tweet\n",
       "SENTIMENT       \n",
       "1            131\n",
       "2            801\n",
       "3            952\n",
       "IRR            6"
      ]
     },
     "execution_count": 4,
     "metadata": {},
     "output_type": "execute_result"
    }
   ],
   "source": [
    "df.groupby(['SENTIMENT']).count()"
   ]
  },
  {
   "cell_type": "markdown",
   "metadata": {
    "id": "5_hpBZhaSSh9"
   },
   "source": [
    "IRR встречается всего 6 раз, этот класс исключаем из дальнейшего анализа."
   ]
  },
  {
   "cell_type": "code",
   "execution_count": 5,
   "metadata": {
    "colab": {
     "base_uri": "https://localhost:8080/"
    },
    "id": "Yv74lYSzyhx-",
    "outputId": "e293832e-b168-48f2-ba32-56342629eaed"
   },
   "outputs": [
    {
     "name": "stdout",
     "output_type": "stream",
     "text": [
      "                                                  tweet SENTIMENT\n",
      "1     в вост. #бирюлево на одну палатку с кошатиной ...         1\n",
      "2     у районной управы собираются местные жители #б...         2\n",
      "3     “@tvrain: тем временем конная полиция добралас...         2\n",
      "4     в центре появились тощие прыщавые мужичонки с ...         3\n",
      "5     как пишет товарищ в смс, на площади революции ...         3\n",
      "...                                                 ...       ...\n",
      "1886  наш корр @dmitryhorse ведет трансляцию из #бир...         2\n",
      "1887  “@gazetaru: #мид ответил на заявление германии...         2\n",
      "1888  “@rt_russian: #азербайджан'ские радикалы пригр...         3\n",
      "1889  “@rt_russian: эксклюзив: новые кадры задержани...         2\n",
      "1890  предполагаемый убийца егора #щербаков'а в #бир...         2\n",
      "\n",
      "[1884 rows x 2 columns]\n"
     ]
    }
   ],
   "source": [
    "df.drop(df[df['SENTIMENT'] == 'IRR'].index, inplace = True)\n",
    "print(df)"
   ]
  },
  {
   "cell_type": "code",
   "execution_count": 6,
   "metadata": {
    "colab": {
     "base_uri": "https://localhost:8080/",
     "height": 143
    },
    "id": "_eJpRXGXmYcw",
    "outputId": "7e30d07e-f8d9-449d-ce45-ef8be5fc978c"
   },
   "outputs": [
    {
     "data": {
      "text/html": [
       "<div>\n",
       "<style scoped>\n",
       "    .dataframe tbody tr th:only-of-type {\n",
       "        vertical-align: middle;\n",
       "    }\n",
       "\n",
       "    .dataframe tbody tr th {\n",
       "        vertical-align: top;\n",
       "    }\n",
       "\n",
       "    .dataframe thead th {\n",
       "        text-align: right;\n",
       "    }\n",
       "</style>\n",
       "<table border=\"1\" class=\"dataframe\">\n",
       "  <thead>\n",
       "    <tr style=\"text-align: right;\">\n",
       "      <th></th>\n",
       "      <th>tweet</th>\n",
       "      <th>SENTIMENT</th>\n",
       "    </tr>\n",
       "  </thead>\n",
       "  <tbody>\n",
       "    <tr>\n",
       "      <th>1</th>\n",
       "      <td>в вост. #бирюлево на одну палатку с кошатиной ...</td>\n",
       "      <td>Positive</td>\n",
       "    </tr>\n",
       "    <tr>\n",
       "      <th>2</th>\n",
       "      <td>у районной управы собираются местные жители #б...</td>\n",
       "      <td>Neutral</td>\n",
       "    </tr>\n",
       "    <tr>\n",
       "      <th>3</th>\n",
       "      <td>“@tvrain: тем временем конная полиция добралас...</td>\n",
       "      <td>Neutral</td>\n",
       "    </tr>\n",
       "  </tbody>\n",
       "</table>\n",
       "</div>"
      ],
      "text/plain": [
       "                                               tweet SENTIMENT\n",
       "1  в вост. #бирюлево на одну палатку с кошатиной ...  Positive\n",
       "2  у районной управы собираются местные жители #б...   Neutral\n",
       "3  “@tvrain: тем временем конная полиция добралас...   Neutral"
      ]
     },
     "execution_count": 6,
     "metadata": {},
     "output_type": "execute_result"
    }
   ],
   "source": [
    "dict = {1 : 'Positive', 2 : 'Neutral', 3 : 'Negative'}\n",
    "df.replace({\"SENTIMENT\": dict}, inplace=True)\n",
    "df.head(3)"
   ]
  },
  {
   "cell_type": "markdown",
   "metadata": {
    "id": "4dR0Za_8cYUm"
   },
   "source": [
    "## Удаление пунктуации из датасета"
   ]
  },
  {
   "cell_type": "code",
   "execution_count": 7,
   "metadata": {
    "id": "7eJ8UFlQwNun"
   },
   "outputs": [],
   "source": [
    "import re\n",
    "p = re.compile(r'[^\\w\\s]+')\n",
    "df['tweet'] = [p.sub('', x) for x in df['tweet'].tolist()]"
   ]
  },
  {
   "cell_type": "code",
   "execution_count": 8,
   "metadata": {
    "colab": {
     "base_uri": "https://localhost:8080/",
     "height": 112
    },
    "id": "qrPaMn1rwsf6",
    "outputId": "88a436aa-24f4-479e-e567-f97a475f53f4"
   },
   "outputs": [
    {
     "data": {
      "text/html": [
       "<div>\n",
       "<style scoped>\n",
       "    .dataframe tbody tr th:only-of-type {\n",
       "        vertical-align: middle;\n",
       "    }\n",
       "\n",
       "    .dataframe tbody tr th {\n",
       "        vertical-align: top;\n",
       "    }\n",
       "\n",
       "    .dataframe thead th {\n",
       "        text-align: right;\n",
       "    }\n",
       "</style>\n",
       "<table border=\"1\" class=\"dataframe\">\n",
       "  <thead>\n",
       "    <tr style=\"text-align: right;\">\n",
       "      <th></th>\n",
       "      <th>tweet</th>\n",
       "      <th>SENTIMENT</th>\n",
       "    </tr>\n",
       "  </thead>\n",
       "  <tbody>\n",
       "    <tr>\n",
       "      <th>1</th>\n",
       "      <td>в вост бирюлево на одну палатку с кошатиной ст...</td>\n",
       "      <td>Positive</td>\n",
       "    </tr>\n",
       "    <tr>\n",
       "      <th>2</th>\n",
       "      <td>у районной управы собираются местные жители би...</td>\n",
       "      <td>Neutral</td>\n",
       "    </tr>\n",
       "  </tbody>\n",
       "</table>\n",
       "</div>"
      ],
      "text/plain": [
       "                                               tweet SENTIMENT\n",
       "1  в вост бирюлево на одну палатку с кошатиной ст...  Positive\n",
       "2  у районной управы собираются местные жители би...   Neutral"
      ]
     },
     "execution_count": 8,
     "metadata": {},
     "output_type": "execute_result"
    }
   ],
   "source": [
    "df.head(2)"
   ]
  },
  {
   "cell_type": "markdown",
   "metadata": {
    "id": "UC72xE9pvGmf"
   },
   "source": [
    "### Преобразование датасета в TF-IDF, разделение на треин-тест и прогнозирование с помощью случайного леса"
   ]
  },
  {
   "cell_type": "code",
   "execution_count": 9,
   "metadata": {
    "id": "lBHJz9XvxIVj"
   },
   "outputs": [],
   "source": [
    "pipeline = Pipeline(\n",
    "    [\n",
    "        (\"vect\", CountVectorizer()),\n",
    "        (\"tfidf\", TfidfTransformer()),\n",
    "        (\"clf\", RandomForestClassifier()),\n",
    "    ]\n",
    ")"
   ]
  },
  {
   "cell_type": "code",
   "execution_count": 10,
   "metadata": {
    "colab": {
     "base_uri": "https://localhost:8080/"
    },
    "id": "GH5Q3KuOpHmv",
    "outputId": "e6c1b821-2934-4c73-939e-e23d12e2c26b"
   },
   "outputs": [
    {
     "data": {
      "text/plain": [
       "0.6093418259023354"
      ]
     },
     "execution_count": 10,
     "metadata": {},
     "output_type": "execute_result"
    }
   ],
   "source": [
    "X_train, X_test, y_train, y_test = train_test_split(df['tweet'], df['SENTIMENT'],\n",
    "                                                    stratify=df['SENTIMENT'],\n",
    "                                                    test_size=0.25)\n",
    "\n",
    "pipeline.fit(X_train, y_train)\n",
    "y_pred = pipeline.predict(X_test)\n",
    "accuracy_score(y_pred, y_test)"
   ]
  },
  {
   "cell_type": "markdown",
   "metadata": {
    "id": "S7o39I0-wGh_"
   },
   "source": [
    "## Normal\n",
    "Удалить стоп-слова из датасета, использовать стеммер Портера (лежит в src/porter.py). Использовать пайплайн для TF-IDF и модели машинного обучения. Подобрать параметры. Сравнить качество нескольких моделей."
   ]
  },
  {
   "cell_type": "code",
   "execution_count": 11,
   "metadata": {
    "colab": {
     "base_uri": "https://localhost:8080/"
    },
    "id": "qVe4KLTgy2xP",
    "outputId": "0857441a-6306-41b4-9ec1-755dcd5ef172"
   },
   "outputs": [
    {
     "name": "stdout",
     "output_type": "stream",
     "text": [
      "['и', 'в', 'во', 'не', 'что', 'он', 'на', 'я', 'с', 'со']\n"
     ]
    },
    {
     "name": "stderr",
     "output_type": "stream",
     "text": [
      "[nltk_data] Downloading package stopwords to\n",
      "[nltk_data]     C:\\Users\\Анна\\AppData\\Roaming\\nltk_data...\n",
      "[nltk_data]   Unzipping corpora\\stopwords.zip.\n"
     ]
    }
   ],
   "source": [
    "from nltk.stem import PorterStemmer\n",
    "from nltk.tokenize import word_tokenize\n",
    "import nltk\n",
    "nltk.download('stopwords')\n",
    "import nltk\n",
    "stopwords = nltk.corpus.stopwords.words('russian')\n",
    "print(stopwords[:10])"
   ]
  },
  {
   "cell_type": "code",
   "execution_count": 12,
   "metadata": {
    "id": "N2w1nYfhDwuM"
   },
   "outputs": [],
   "source": [
    "def remove_stopwords_func(text):\n",
    "    t = [token for token in text if token.lower() not in stopwords]\n",
    "    text = ' '.join(t)    \n",
    "    return text"
   ]
  },
  {
   "cell_type": "code",
   "execution_count": 13,
   "metadata": {
    "colab": {
     "base_uri": "https://localhost:8080/"
    },
    "id": "FtxGoMShCxF9",
    "outputId": "a167d84f-40c9-4775-915b-f2b93fcae5fc"
   },
   "outputs": [
    {
     "name": "stderr",
     "output_type": "stream",
     "text": [
      "[nltk_data] Downloading package punkt to\n",
      "[nltk_data]     C:\\Users\\Анна\\AppData\\Roaming\\nltk_data...\n",
      "[nltk_data]   Unzipping tokenizers\\punkt.zip.\n"
     ]
    },
    {
     "data": {
      "text/plain": [
       "True"
      ]
     },
     "execution_count": 13,
     "metadata": {},
     "output_type": "execute_result"
    }
   ],
   "source": [
    "from nltk.tokenize import word_tokenize\n",
    "import nltk\n",
    "nltk.download('punkt')"
   ]
  },
  {
   "cell_type": "code",
   "execution_count": 14,
   "metadata": {
    "colab": {
     "base_uri": "https://localhost:8080/",
     "height": 112
    },
    "id": "UAn06rn9C6lX",
    "outputId": "b2d19bfb-fd5e-4c76-898d-715f59cf90c9"
   },
   "outputs": [
    {
     "data": {
      "text/html": [
       "<div>\n",
       "<style scoped>\n",
       "    .dataframe tbody tr th:only-of-type {\n",
       "        vertical-align: middle;\n",
       "    }\n",
       "\n",
       "    .dataframe tbody tr th {\n",
       "        vertical-align: top;\n",
       "    }\n",
       "\n",
       "    .dataframe thead th {\n",
       "        text-align: right;\n",
       "    }\n",
       "</style>\n",
       "<table border=\"1\" class=\"dataframe\">\n",
       "  <thead>\n",
       "    <tr style=\"text-align: right;\">\n",
       "      <th></th>\n",
       "      <th>tweet</th>\n",
       "      <th>SENTIMENT</th>\n",
       "    </tr>\n",
       "  </thead>\n",
       "  <tbody>\n",
       "    <tr>\n",
       "      <th>1</th>\n",
       "      <td>в вост бирюлево на одну палатку с кошатиной ст...</td>\n",
       "      <td>Positive</td>\n",
       "    </tr>\n",
       "    <tr>\n",
       "      <th>2</th>\n",
       "      <td>у районной управы собираются местные жители би...</td>\n",
       "      <td>Neutral</td>\n",
       "    </tr>\n",
       "  </tbody>\n",
       "</table>\n",
       "</div>"
      ],
      "text/plain": [
       "                                               tweet SENTIMENT\n",
       "1  в вост бирюлево на одну палатку с кошатиной ст...  Positive\n",
       "2  у районной управы собираются местные жители би...   Neutral"
      ]
     },
     "execution_count": 14,
     "metadata": {},
     "output_type": "execute_result"
    }
   ],
   "source": [
    "dff = df\n",
    "dff.head(2)"
   ]
  },
  {
   "cell_type": "code",
   "execution_count": 15,
   "metadata": {
    "colab": {
     "base_uri": "https://localhost:8080/",
     "height": 112
    },
    "id": "D_G6WlAhBqDe",
    "outputId": "2778b305-b299-4557-fe4e-73a8684254c6"
   },
   "outputs": [
    {
     "data": {
      "text/html": [
       "<div>\n",
       "<style scoped>\n",
       "    .dataframe tbody tr th:only-of-type {\n",
       "        vertical-align: middle;\n",
       "    }\n",
       "\n",
       "    .dataframe tbody tr th {\n",
       "        vertical-align: top;\n",
       "    }\n",
       "\n",
       "    .dataframe thead th {\n",
       "        text-align: right;\n",
       "    }\n",
       "</style>\n",
       "<table border=\"1\" class=\"dataframe\">\n",
       "  <thead>\n",
       "    <tr style=\"text-align: right;\">\n",
       "      <th></th>\n",
       "      <th>tweet</th>\n",
       "      <th>SENTIMENT</th>\n",
       "      <th>Tweets_Tokenized</th>\n",
       "    </tr>\n",
       "  </thead>\n",
       "  <tbody>\n",
       "    <tr>\n",
       "      <th>1</th>\n",
       "      <td>в вост бирюлево на одну палатку с кошатиной ст...</td>\n",
       "      <td>Positive</td>\n",
       "      <td>[в, вост, бирюлево, на, одну, палатку, с, коша...</td>\n",
       "    </tr>\n",
       "    <tr>\n",
       "      <th>2</th>\n",
       "      <td>у районной управы собираются местные жители би...</td>\n",
       "      <td>Neutral</td>\n",
       "      <td>[у, районной, управы, собираются, местные, жит...</td>\n",
       "    </tr>\n",
       "  </tbody>\n",
       "</table>\n",
       "</div>"
      ],
      "text/plain": [
       "                                               tweet SENTIMENT  \\\n",
       "1  в вост бирюлево на одну палатку с кошатиной ст...  Positive   \n",
       "2  у районной управы собираются местные жители би...   Neutral   \n",
       "\n",
       "                                    Tweets_Tokenized  \n",
       "1  [в, вост, бирюлево, на, одну, палатку, с, коша...  \n",
       "2  [у, районной, управы, собираются, местные, жит...  "
      ]
     },
     "execution_count": 15,
     "metadata": {},
     "output_type": "execute_result"
    }
   ],
   "source": [
    "dff['Tweets_Tokenized'] = dff['tweet'].apply(word_tokenize)\n",
    "\n",
    "dff.head(2)"
   ]
  },
  {
   "cell_type": "code",
   "execution_count": 16,
   "metadata": {
    "id": "-wbOKz2uJ3HU"
   },
   "outputs": [],
   "source": [
    "ps = PorterStemmer()"
   ]
  },
  {
   "cell_type": "code",
   "execution_count": 17,
   "metadata": {
    "colab": {
     "base_uri": "https://localhost:8080/",
     "height": 112
    },
    "id": "C0UF1Skn2sI_",
    "outputId": "73c4bb72-b989-40a6-953b-24461dfd2652"
   },
   "outputs": [
    {
     "data": {
      "text/html": [
       "<div>\n",
       "<style scoped>\n",
       "    .dataframe tbody tr th:only-of-type {\n",
       "        vertical-align: middle;\n",
       "    }\n",
       "\n",
       "    .dataframe tbody tr th {\n",
       "        vertical-align: top;\n",
       "    }\n",
       "\n",
       "    .dataframe thead th {\n",
       "        text-align: right;\n",
       "    }\n",
       "</style>\n",
       "<table border=\"1\" class=\"dataframe\">\n",
       "  <thead>\n",
       "    <tr style=\"text-align: right;\">\n",
       "      <th></th>\n",
       "      <th>tweet</th>\n",
       "      <th>SENTIMENT</th>\n",
       "      <th>Tweets_Tokenized</th>\n",
       "      <th>Tweets_wo_Stop_Words</th>\n",
       "    </tr>\n",
       "  </thead>\n",
       "  <tbody>\n",
       "    <tr>\n",
       "      <th>1</th>\n",
       "      <td>в вост бирюлево на одну палатку с кошатиной ст...</td>\n",
       "      <td>Positive</td>\n",
       "      <td>[в, вост, бирюлево, на, одну, палатку, с, коша...</td>\n",
       "      <td>вост бирюлево одну палатку кошатиной стало мен...</td>\n",
       "    </tr>\n",
       "    <tr>\n",
       "      <th>2</th>\n",
       "      <td>у районной управы собираются местные жители би...</td>\n",
       "      <td>Neutral</td>\n",
       "      <td>[у, районной, управы, собираются, местные, жит...</td>\n",
       "      <td>районной управы собираются местные жители бирю...</td>\n",
       "    </tr>\n",
       "  </tbody>\n",
       "</table>\n",
       "</div>"
      ],
      "text/plain": [
       "                                               tweet SENTIMENT  \\\n",
       "1  в вост бирюлево на одну палатку с кошатиной ст...  Positive   \n",
       "2  у районной управы собираются местные жители би...   Neutral   \n",
       "\n",
       "                                    Tweets_Tokenized  \\\n",
       "1  [в, вост, бирюлево, на, одну, палатку, с, коша...   \n",
       "2  [у, районной, управы, собираются, местные, жит...   \n",
       "\n",
       "                                Tweets_wo_Stop_Words  \n",
       "1  вост бирюлево одну палатку кошатиной стало мен...  \n",
       "2  районной управы собираются местные жители бирю...  "
      ]
     },
     "execution_count": 17,
     "metadata": {},
     "output_type": "execute_result"
    }
   ],
   "source": [
    "dff['Tweets_wo_Stop_Words'] = df['Tweets_Tokenized'].apply(remove_stopwords_func)\n",
    "\n",
    "dff.head(2)"
   ]
  },
  {
   "cell_type": "code",
   "execution_count": 18,
   "metadata": {
    "colab": {
     "base_uri": "https://localhost:8080/",
     "height": 35
    },
    "id": "nrIJcDE5dwD2",
    "outputId": "cc69aa2f-705c-4058-a36b-aa3c2a10a234"
   },
   "outputs": [
    {
     "data": {
      "text/plain": [
       "'lower'"
      ]
     },
     "execution_count": 18,
     "metadata": {},
     "output_type": "execute_result"
    }
   ],
   "source": [
    "ps.stem('lowered')"
   ]
  },
  {
   "cell_type": "code",
   "execution_count": 19,
   "metadata": {
    "colab": {
     "base_uri": "https://localhost:8080/",
     "height": 35
    },
    "id": "ICWV_4wVdwP6",
    "outputId": "5f6ddbe9-c286-4762-9ce0-dce9fa57ce1e"
   },
   "outputs": [
    {
     "data": {
      "text/plain": [
       "'палатку'"
      ]
     },
     "execution_count": 19,
     "metadata": {},
     "output_type": "execute_result"
    }
   ],
   "source": [
    "ps.stem('палатку')"
   ]
  },
  {
   "cell_type": "code",
   "execution_count": 20,
   "metadata": {
    "colab": {
     "base_uri": "https://localhost:8080/"
    },
    "id": "hXkq1TO-LDWk",
    "outputId": "7e07cf94-a6b8-454d-9dd0-e58b4882b951"
   },
   "outputs": [
    {
     "name": "stderr",
     "output_type": "stream",
     "text": [
      "[nltk_data] Downloading package wordnet to\n",
      "[nltk_data]     C:\\Users\\Анна\\AppData\\Roaming\\nltk_data...\n",
      "[nltk_data] Downloading package omw-1.4 to\n",
      "[nltk_data]     C:\\Users\\Анна\\AppData\\Roaming\\nltk_data...\n"
     ]
    }
   ],
   "source": [
    "nltk.download('wordnet')\n",
    "nltk.download('omw-1.4')\n",
    "\n",
    "def text_pre_processing(text, flg_stemm=False, flg_lemm=True, lst_stopwords=stopwords):\n",
    "    # case folding and remove punctutation\n",
    "    text = re.sub(r'[^\\w\\s]', '', str(text).lower().strip())\n",
    "            \n",
    "    # tokenizing\n",
    "    lst_text = text.split()\n",
    "    # remove Stopwords\n",
    "    if lst_stopwords is not None:\n",
    "        lst_text = [word for word in lst_text if word not in \n",
    "                    lst_stopwords]\n",
    "                \n",
    "    # Stemming (remove -ing, -ly, ...)\n",
    "    if flg_stemm == True:\n",
    "        lst_text = [ps.stem(word) for word in lst_text]\n",
    "                \n",
    "    # Lemmatisation (convert the word into root word)\n",
    "    if flg_lemm == True:\n",
    "        lem = nltk.stem.wordnet.WordNetLemmatizer()\n",
    "        lst_text = [lem.lemmatize(word) for word in lst_text]\n",
    "            \n",
    "    #back to string from list\n",
    "    text = \" \".join(lst_text)\n",
    "    return text"
   ]
  },
  {
   "cell_type": "code",
   "execution_count": 24,
   "metadata": {
    "colab": {
     "base_uri": "https://localhost:8080/",
     "height": 337
    },
    "id": "hbyA7lPTcuiC",
    "outputId": "7c86bb7b-1c4e-477d-a77d-c4c8dbd06ed9"
   },
   "outputs": [
    {
     "data": {
      "text/html": [
       "<div>\n",
       "<style scoped>\n",
       "    .dataframe tbody tr th:only-of-type {\n",
       "        vertical-align: middle;\n",
       "    }\n",
       "\n",
       "    .dataframe tbody tr th {\n",
       "        vertical-align: top;\n",
       "    }\n",
       "\n",
       "    .dataframe thead th {\n",
       "        text-align: right;\n",
       "    }\n",
       "</style>\n",
       "<table border=\"1\" class=\"dataframe\">\n",
       "  <thead>\n",
       "    <tr style=\"text-align: right;\">\n",
       "      <th></th>\n",
       "      <th>tweet</th>\n",
       "      <th>SENTIMENT</th>\n",
       "      <th>Tweets_Tokenized</th>\n",
       "      <th>Tweets_wo_Stop_Words</th>\n",
       "      <th>tweet_clean</th>\n",
       "    </tr>\n",
       "  </thead>\n",
       "  <tbody>\n",
       "    <tr>\n",
       "      <th>1</th>\n",
       "      <td>в вост бирюлево на одну палатку с кошатиной ст...</td>\n",
       "      <td>Positive</td>\n",
       "      <td>[в, вост, бирюлево, на, одну, палатку, с, коша...</td>\n",
       "      <td>вост бирюлево одну палатку кошатиной стало мен...</td>\n",
       "      <td>вост бирюлево одну палатку кошатиной стало мен...</td>\n",
       "    </tr>\n",
       "    <tr>\n",
       "      <th>2</th>\n",
       "      <td>у районной управы собираются местные жители би...</td>\n",
       "      <td>Neutral</td>\n",
       "      <td>[у, районной, управы, собираются, местные, жит...</td>\n",
       "      <td>районной управы собираются местные жители бирю...</td>\n",
       "      <td>районной управы собираются местные жители бирю...</td>\n",
       "    </tr>\n",
       "    <tr>\n",
       "      <th>3</th>\n",
       "      <td>tvrain тем временем конная полиция добралась д...</td>\n",
       "      <td>Neutral</td>\n",
       "      <td>[tvrain, тем, временем, конная, полиция, добра...</td>\n",
       "      <td>tvrain временем конная полиция добралась бирюл...</td>\n",
       "      <td>tvrain временем конная полиция добралась бирюл...</td>\n",
       "    </tr>\n",
       "  </tbody>\n",
       "</table>\n",
       "</div>"
      ],
      "text/plain": [
       "                                               tweet SENTIMENT  \\\n",
       "1  в вост бирюлево на одну палатку с кошатиной ст...  Positive   \n",
       "2  у районной управы собираются местные жители би...   Neutral   \n",
       "3  tvrain тем временем конная полиция добралась д...   Neutral   \n",
       "\n",
       "                                    Tweets_Tokenized  \\\n",
       "1  [в, вост, бирюлево, на, одну, палатку, с, коша...   \n",
       "2  [у, районной, управы, собираются, местные, жит...   \n",
       "3  [tvrain, тем, временем, конная, полиция, добра...   \n",
       "\n",
       "                                Tweets_wo_Stop_Words  \\\n",
       "1  вост бирюлево одну палатку кошатиной стало мен...   \n",
       "2  районной управы собираются местные жители бирю...   \n",
       "3  tvrain временем конная полиция добралась бирюл...   \n",
       "\n",
       "                                         tweet_clean  \n",
       "1  вост бирюлево одну палатку кошатиной стало мен...  \n",
       "2  районной управы собираются местные жители бирю...  \n",
       "3  tvrain временем конная полиция добралась бирюл...  "
      ]
     },
     "execution_count": 24,
     "metadata": {},
     "output_type": "execute_result"
    }
   ],
   "source": [
    "df['tweet_clean'] = df['tweet'].apply(lambda news_title: text_pre_processing(news_title))\n",
    "df.head(3)"
   ]
  },
  {
   "cell_type": "code",
   "execution_count": 25,
   "metadata": {
    "id": "ROrbrl2SQI0N"
   },
   "outputs": [],
   "source": [
    "pipeline2 = Pipeline(\n",
    "    [\n",
    "        (\"vect\", CountVectorizer()),\n",
    "        (\"tfidf\", TfidfTransformer()),\n",
    "        (\"clf\", RandomForestClassifier()),\n",
    "    ]\n",
    ")"
   ]
  },
  {
   "cell_type": "code",
   "execution_count": 26,
   "metadata": {
    "id": "W9pa8nCvb6wh"
   },
   "outputs": [],
   "source": [
    "X_train_n, X_test_n, y_train_n, y_test_n = train_test_split(df['tweet_clean'], df['SENTIMENT'],\n",
    "                                                    stratify=df['SENTIMENT'],\n",
    "                                                    test_size=0.25)"
   ]
  },
  {
   "cell_type": "code",
   "execution_count": 27,
   "metadata": {
    "colab": {
     "base_uri": "https://localhost:8080/"
    },
    "id": "C5z-URl4SFWR",
    "outputId": "00bb5699-8a64-43d6-814f-96b94576cb1b"
   },
   "outputs": [
    {
     "data": {
      "text/plain": [
       "0.6326963906581741"
      ]
     },
     "execution_count": 27,
     "metadata": {},
     "output_type": "execute_result"
    }
   ],
   "source": [
    "pipeline2.fit(X_train_n, y_train_n)\n",
    "y_pred_rf = pipeline2.predict(X_test_n)\n",
    "accuracy_score(y_pred_rf, y_test_n)"
   ]
  },
  {
   "cell_type": "code",
   "execution_count": 29,
   "metadata": {
    "id": "nqxOAQ3aZVJx"
   },
   "outputs": [],
   "source": [
    "from sklearn.linear_model import LogisticRegression\n",
    "\n",
    "pipeline3 = Pipeline(\n",
    "    [\n",
    "        (\"vect\", CountVectorizer()),\n",
    "        (\"tfidf\", TfidfTransformer()),\n",
    "        (\"lr\", LogisticRegression()),\n",
    "    ]\n",
    ")"
   ]
  },
  {
   "cell_type": "code",
   "execution_count": 30,
   "metadata": {
    "colab": {
     "base_uri": "https://localhost:8080/"
    },
    "id": "tfGTkJ2yZ5HP",
    "outputId": "6e620b96-44e1-4995-bcdf-cdbc5e6b84a3"
   },
   "outputs": [
    {
     "data": {
      "text/plain": [
       "0.6751592356687898"
      ]
     },
     "execution_count": 30,
     "metadata": {},
     "output_type": "execute_result"
    }
   ],
   "source": [
    "pipeline3.fit(X_train_n, y_train_n)\n",
    "y_pred_lr = pipeline3.predict(X_test_n)\n",
    "accuracy_score(y_pred_lr, y_test_n)"
   ]
  }
 ],
 "metadata": {
  "colab": {
   "collapsed_sections": [],
   "history_visible": true,
   "name": "12345.ipynb",
   "provenance": []
  },
  "kernelspec": {
   "display_name": "Python 3 (ipykernel)",
   "language": "python",
   "name": "python3"
  },
  "language_info": {
   "codemirror_mode": {
    "name": "ipython",
    "version": 3
   },
   "file_extension": ".py",
   "mimetype": "text/x-python",
   "name": "python",
   "nbconvert_exporter": "python",
   "pygments_lexer": "ipython3",
   "version": "3.9.12"
  }
 },
 "nbformat": 4,
 "nbformat_minor": 1
}
