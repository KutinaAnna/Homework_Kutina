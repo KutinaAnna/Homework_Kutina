{
 "cells": [
  {
   "cell_type": "markdown",
   "id": "46f7c94f",
   "metadata": {},
   "source": [
    "## Домашняя работа\n"
   ]
  },
  {
   "cell_type": "markdown",
   "id": "d3fd8942",
   "metadata": {},
   "source": [
    "## Easy\n",
    "Открыть набор данных dota_hero_stats.csv из папки data.\n",
    "\n",
    "Данные взяты отсюда, на этом же сайте можно найти больше разнообразных данных по Dota2.\n",
    "\n",
    "Пересчитаем число ног у героев игры Dota2! Сгруппируйте героев из датасэта по числу их ног (колонка legs), и посчитайте количество героев для каждого значения legs"
   ]
  },
  {
   "cell_type": "code",
   "execution_count": 49,
   "id": "f2c5fbda",
   "metadata": {},
   "outputs": [],
   "source": [
    "import numpy as np\n",
    "import pandas as pd\n",
    "import matplotlib.pyplot as plt\n",
    "import seaborn as sns\n",
    "plt.style.use('seaborn-white')\n",
    "sns.set()"
   ]
  },
  {
   "cell_type": "code",
   "execution_count": 38,
   "id": "96091679",
   "metadata": {},
   "outputs": [],
   "source": [
    "import requests\n",
    "import json\n",
    "link = \"https://api.opendota.com/api/heroes\"\n",
    "r = requests.get(link)\n",
    "data = json.loads(r.text)"
   ]
  },
  {
   "cell_type": "code",
   "execution_count": 110,
   "id": "25469d82",
   "metadata": {},
   "outputs": [
    {
     "data": {
      "text/html": [
       "<div>\n",
       "<style scoped>\n",
       "    .dataframe tbody tr th:only-of-type {\n",
       "        vertical-align: middle;\n",
       "    }\n",
       "\n",
       "    .dataframe tbody tr th {\n",
       "        vertical-align: top;\n",
       "    }\n",
       "\n",
       "    .dataframe thead th {\n",
       "        text-align: right;\n",
       "    }\n",
       "</style>\n",
       "<table border=\"1\" class=\"dataframe\">\n",
       "  <thead>\n",
       "    <tr style=\"text-align: right;\">\n",
       "      <th></th>\n",
       "      <th>id</th>\n",
       "      <th>name</th>\n",
       "      <th>localized_name</th>\n",
       "      <th>primary_attr</th>\n",
       "      <th>attack_type</th>\n",
       "      <th>roles</th>\n",
       "      <th>legs</th>\n",
       "    </tr>\n",
       "  </thead>\n",
       "  <tbody>\n",
       "    <tr>\n",
       "      <th>0</th>\n",
       "      <td>1</td>\n",
       "      <td>npc_dota_hero_antimage</td>\n",
       "      <td>Anti-Mage</td>\n",
       "      <td>agi</td>\n",
       "      <td>Melee</td>\n",
       "      <td>[Carry, Escape, Nuker]</td>\n",
       "      <td>2</td>\n",
       "    </tr>\n",
       "    <tr>\n",
       "      <th>1</th>\n",
       "      <td>2</td>\n",
       "      <td>npc_dota_hero_axe</td>\n",
       "      <td>Axe</td>\n",
       "      <td>str</td>\n",
       "      <td>Melee</td>\n",
       "      <td>[Initiator, Durable, Disabler, Jungler, Carry]</td>\n",
       "      <td>2</td>\n",
       "    </tr>\n",
       "    <tr>\n",
       "      <th>2</th>\n",
       "      <td>3</td>\n",
       "      <td>npc_dota_hero_bane</td>\n",
       "      <td>Bane</td>\n",
       "      <td>int</td>\n",
       "      <td>Ranged</td>\n",
       "      <td>[Support, Disabler, Nuker, Durable]</td>\n",
       "      <td>4</td>\n",
       "    </tr>\n",
       "    <tr>\n",
       "      <th>3</th>\n",
       "      <td>4</td>\n",
       "      <td>npc_dota_hero_bloodseeker</td>\n",
       "      <td>Bloodseeker</td>\n",
       "      <td>agi</td>\n",
       "      <td>Melee</td>\n",
       "      <td>[Carry, Disabler, Jungler, Nuker, Initiator]</td>\n",
       "      <td>2</td>\n",
       "    </tr>\n",
       "    <tr>\n",
       "      <th>4</th>\n",
       "      <td>5</td>\n",
       "      <td>npc_dota_hero_crystal_maiden</td>\n",
       "      <td>Crystal Maiden</td>\n",
       "      <td>int</td>\n",
       "      <td>Ranged</td>\n",
       "      <td>[Support, Disabler, Nuker, Jungler]</td>\n",
       "      <td>2</td>\n",
       "    </tr>\n",
       "    <tr>\n",
       "      <th>...</th>\n",
       "      <td>...</td>\n",
       "      <td>...</td>\n",
       "      <td>...</td>\n",
       "      <td>...</td>\n",
       "      <td>...</td>\n",
       "      <td>...</td>\n",
       "      <td>...</td>\n",
       "    </tr>\n",
       "    <tr>\n",
       "      <th>95</th>\n",
       "      <td>97</td>\n",
       "      <td>npc_dota_hero_magnataur</td>\n",
       "      <td>Magnus</td>\n",
       "      <td>str</td>\n",
       "      <td>Melee</td>\n",
       "      <td>[Initiator, Disabler, Nuker, Escape]</td>\n",
       "      <td>4</td>\n",
       "    </tr>\n",
       "    <tr>\n",
       "      <th>96</th>\n",
       "      <td>98</td>\n",
       "      <td>npc_dota_hero_shredder</td>\n",
       "      <td>Timbersaw</td>\n",
       "      <td>str</td>\n",
       "      <td>Melee</td>\n",
       "      <td>[Nuker, Durable, Escape]</td>\n",
       "      <td>2</td>\n",
       "    </tr>\n",
       "    <tr>\n",
       "      <th>97</th>\n",
       "      <td>99</td>\n",
       "      <td>npc_dota_hero_bristleback</td>\n",
       "      <td>Bristleback</td>\n",
       "      <td>str</td>\n",
       "      <td>Melee</td>\n",
       "      <td>[Carry, Durable, Initiator, Nuker]</td>\n",
       "      <td>2</td>\n",
       "    </tr>\n",
       "    <tr>\n",
       "      <th>98</th>\n",
       "      <td>100</td>\n",
       "      <td>npc_dota_hero_tusk</td>\n",
       "      <td>Tusk</td>\n",
       "      <td>str</td>\n",
       "      <td>Melee</td>\n",
       "      <td>[Initiator, Disabler, Nuker]</td>\n",
       "      <td>2</td>\n",
       "    </tr>\n",
       "    <tr>\n",
       "      <th>99</th>\n",
       "      <td>101</td>\n",
       "      <td>npc_dota_hero_skywrath_mage</td>\n",
       "      <td>Skywrath Mage</td>\n",
       "      <td>int</td>\n",
       "      <td>Ranged</td>\n",
       "      <td>[Support, Nuker, Disabler]</td>\n",
       "      <td>2</td>\n",
       "    </tr>\n",
       "  </tbody>\n",
       "</table>\n",
       "<p>100 rows × 7 columns</p>\n",
       "</div>"
      ],
      "text/plain": [
       "     id                          name  localized_name primary_attr  \\\n",
       "0     1        npc_dota_hero_antimage       Anti-Mage          agi   \n",
       "1     2             npc_dota_hero_axe             Axe          str   \n",
       "2     3            npc_dota_hero_bane            Bane          int   \n",
       "3     4     npc_dota_hero_bloodseeker     Bloodseeker          agi   \n",
       "4     5  npc_dota_hero_crystal_maiden  Crystal Maiden          int   \n",
       "..  ...                           ...             ...          ...   \n",
       "95   97       npc_dota_hero_magnataur          Magnus          str   \n",
       "96   98        npc_dota_hero_shredder       Timbersaw          str   \n",
       "97   99     npc_dota_hero_bristleback     Bristleback          str   \n",
       "98  100            npc_dota_hero_tusk            Tusk          str   \n",
       "99  101   npc_dota_hero_skywrath_mage   Skywrath Mage          int   \n",
       "\n",
       "   attack_type                                           roles  legs  \n",
       "0        Melee                          [Carry, Escape, Nuker]     2  \n",
       "1        Melee  [Initiator, Durable, Disabler, Jungler, Carry]     2  \n",
       "2       Ranged             [Support, Disabler, Nuker, Durable]     4  \n",
       "3        Melee    [Carry, Disabler, Jungler, Nuker, Initiator]     2  \n",
       "4       Ranged             [Support, Disabler, Nuker, Jungler]     2  \n",
       "..         ...                                             ...   ...  \n",
       "95       Melee            [Initiator, Disabler, Nuker, Escape]     4  \n",
       "96       Melee                        [Nuker, Durable, Escape]     2  \n",
       "97       Melee              [Carry, Durable, Initiator, Nuker]     2  \n",
       "98       Melee                    [Initiator, Disabler, Nuker]     2  \n",
       "99      Ranged                      [Support, Nuker, Disabler]     2  \n",
       "\n",
       "[100 rows x 7 columns]"
      ]
     },
     "execution_count": 110,
     "metadata": {},
     "output_type": "execute_result"
    }
   ],
   "source": [
    "df = pd.DataFrame(data)\n",
    "df.head(100)"
   ]
  },
  {
   "cell_type": "code",
   "execution_count": 41,
   "id": "ce1874d2",
   "metadata": {},
   "outputs": [
    {
     "data": {
      "text/plain": [
       "legs\n",
       "0    14\n",
       "2    97\n",
       "4     8\n",
       "6     3\n",
       "8     1\n",
       "Name: name, dtype: int64"
      ]
     },
     "execution_count": 41,
     "metadata": {},
     "output_type": "execute_result"
    }
   ],
   "source": [
    "df.groupby([\"legs\"]).name.count()"
   ]
  },
  {
   "cell_type": "markdown",
   "id": "a7a0a947",
   "metadata": {},
   "source": [
    "## Normal\n",
    "Продолжим исследование героев Dota2. Сгруппируйте по колонкам attack_type и primary_attr и выберите самый распространённый набор характеристик. Выведите список героев с этим набором характеристик"
   ]
  },
  {
   "cell_type": "code",
   "execution_count": 42,
   "id": "3886d0f8",
   "metadata": {},
   "outputs": [
    {
     "data": {
      "text/html": [
       "<div>\n",
       "<style scoped>\n",
       "    .dataframe tbody tr th:only-of-type {\n",
       "        vertical-align: middle;\n",
       "    }\n",
       "\n",
       "    .dataframe tbody tr th {\n",
       "        vertical-align: top;\n",
       "    }\n",
       "\n",
       "    .dataframe thead th {\n",
       "        text-align: right;\n",
       "    }\n",
       "</style>\n",
       "<table border=\"1\" class=\"dataframe\">\n",
       "  <thead>\n",
       "    <tr style=\"text-align: right;\">\n",
       "      <th></th>\n",
       "      <th>attack_type</th>\n",
       "      <th>primary_attr</th>\n",
       "      <th>0</th>\n",
       "    </tr>\n",
       "  </thead>\n",
       "  <tbody>\n",
       "    <tr>\n",
       "      <th>4</th>\n",
       "      <td>Ranged</td>\n",
       "      <td>int</td>\n",
       "      <td>40</td>\n",
       "    </tr>\n",
       "  </tbody>\n",
       "</table>\n",
       "</div>"
      ],
      "text/plain": [
       "  attack_type primary_attr   0\n",
       "4      Ranged          int  40"
      ]
     },
     "execution_count": 42,
     "metadata": {},
     "output_type": "execute_result"
    }
   ],
   "source": [
    "dff = df.groupby([\"attack_type\", \"primary_attr\"]).size().reset_index()\n",
    "dff[dff[0] == df.groupby([\"attack_type\", \"primary_attr\"]).size().max()]"
   ]
  },
  {
   "cell_type": "code",
   "execution_count": 43,
   "id": "59cf0683",
   "metadata": {},
   "outputs": [
    {
     "data": {
      "text/plain": [
       "2                     Bane\n",
       "4           Crystal Maiden\n",
       "12                    Puck\n",
       "16            Storm Spirit\n",
       "20              Windranger\n",
       "21                    Zeus\n",
       "23                    Lina\n",
       "24                    Lion\n",
       "25           Shadow Shaman\n",
       "28            Witch Doctor\n",
       "29                    Lich\n",
       "31                  Enigma\n",
       "32                  Tinker\n",
       "34               Necrophos\n",
       "35                 Warlock\n",
       "37           Queen of Pain\n",
       "41           Death Prophet\n",
       "43                   Pugna\n",
       "48                  Dazzle\n",
       "50                 Leshrac\n",
       "51        Nature's Prophet\n",
       "56             Enchantress\n",
       "62                  Jakiro\n",
       "63                Batrider\n",
       "64                    Chen\n",
       "66      Ancient Apparition\n",
       "72                 Invoker\n",
       "73                Silencer\n",
       "74      Outworld Destroyer\n",
       "77            Shadow Demon\n",
       "84                  Rubick\n",
       "85               Disruptor\n",
       "88     Keeper of the Light\n",
       "90                  Visage\n",
       "99           Skywrath Mage\n",
       "103                Techies\n",
       "109                 Oracle\n",
       "110          Winter Wyvern\n",
       "113            Dark Willow\n",
       "115             Grimstroke\n",
       "Name: localized_name, dtype: object"
      ]
     },
     "execution_count": 43,
     "metadata": {},
     "output_type": "execute_result"
    }
   ],
   "source": [
    "df.localized_name[(df[\"attack_type\"] == \"Ranged\") & (df[\"primary_attr\"] == \"int\")]"
   ]
  },
  {
   "cell_type": "markdown",
   "id": "7140e525",
   "metadata": {},
   "source": [
    "## Hard\n",
    "В колонке roles находится список того, к каким ролям приписывают создатели Dota того или иного героя. Так же у каждого героя есть его основная характеристика, которая записана в колонке primary_attr.\n",
    "\n",
    "1) Для каждой роли требуется построить bar plot на котором будет видно какое колличество раз героев с тем или иным основным атрибутам создатели игры относят к данной роли.\n",
    "\n",
    "2) Так же требуется сделать обратный график: для каждого основного аттрибута сделайте bar plot на котором будет видно какое колличество раз создатели Dota относили героя с этим атрибутом к конкретной роли.\n",
    "\n",
    "3) Сделайте выводы по полученым графикам (это могут быть совершенно любые выводы)\n",
    "\n",
    "P.s Для задания 1 должно получится 12 графиков (для каждой роли)"
   ]
  },
  {
   "cell_type": "code",
   "execution_count": 44,
   "id": "e80066db",
   "metadata": {},
   "outputs": [
    {
     "data": {
      "text/html": [
       "<div>\n",
       "<style scoped>\n",
       "    .dataframe tbody tr th:only-of-type {\n",
       "        vertical-align: middle;\n",
       "    }\n",
       "\n",
       "    .dataframe tbody tr th {\n",
       "        vertical-align: top;\n",
       "    }\n",
       "\n",
       "    .dataframe thead th {\n",
       "        text-align: right;\n",
       "    }\n",
       "</style>\n",
       "<table border=\"1\" class=\"dataframe\">\n",
       "  <thead>\n",
       "    <tr style=\"text-align: right;\">\n",
       "      <th></th>\n",
       "      <th>id</th>\n",
       "      <th>name</th>\n",
       "      <th>localized_name</th>\n",
       "      <th>primary_attr</th>\n",
       "      <th>attack_type</th>\n",
       "      <th>roles</th>\n",
       "      <th>legs</th>\n",
       "    </tr>\n",
       "  </thead>\n",
       "  <tbody>\n",
       "    <tr>\n",
       "      <th>0</th>\n",
       "      <td>1</td>\n",
       "      <td>npc_dota_hero_antimage</td>\n",
       "      <td>Anti-Mage</td>\n",
       "      <td>agi</td>\n",
       "      <td>Melee</td>\n",
       "      <td>[Carry, Escape, Nuker]</td>\n",
       "      <td>2</td>\n",
       "    </tr>\n",
       "    <tr>\n",
       "      <th>1</th>\n",
       "      <td>2</td>\n",
       "      <td>npc_dota_hero_axe</td>\n",
       "      <td>Axe</td>\n",
       "      <td>str</td>\n",
       "      <td>Melee</td>\n",
       "      <td>[Initiator, Durable, Disabler, Jungler, Carry]</td>\n",
       "      <td>2</td>\n",
       "    </tr>\n",
       "    <tr>\n",
       "      <th>2</th>\n",
       "      <td>3</td>\n",
       "      <td>npc_dota_hero_bane</td>\n",
       "      <td>Bane</td>\n",
       "      <td>int</td>\n",
       "      <td>Ranged</td>\n",
       "      <td>[Support, Disabler, Nuker, Durable]</td>\n",
       "      <td>4</td>\n",
       "    </tr>\n",
       "    <tr>\n",
       "      <th>3</th>\n",
       "      <td>4</td>\n",
       "      <td>npc_dota_hero_bloodseeker</td>\n",
       "      <td>Bloodseeker</td>\n",
       "      <td>agi</td>\n",
       "      <td>Melee</td>\n",
       "      <td>[Carry, Disabler, Jungler, Nuker, Initiator]</td>\n",
       "      <td>2</td>\n",
       "    </tr>\n",
       "    <tr>\n",
       "      <th>4</th>\n",
       "      <td>5</td>\n",
       "      <td>npc_dota_hero_crystal_maiden</td>\n",
       "      <td>Crystal Maiden</td>\n",
       "      <td>int</td>\n",
       "      <td>Ranged</td>\n",
       "      <td>[Support, Disabler, Nuker, Jungler]</td>\n",
       "      <td>2</td>\n",
       "    </tr>\n",
       "  </tbody>\n",
       "</table>\n",
       "</div>"
      ],
      "text/plain": [
       "   id                          name  localized_name primary_attr attack_type  \\\n",
       "0   1        npc_dota_hero_antimage       Anti-Mage          agi       Melee   \n",
       "1   2             npc_dota_hero_axe             Axe          str       Melee   \n",
       "2   3            npc_dota_hero_bane            Bane          int      Ranged   \n",
       "3   4     npc_dota_hero_bloodseeker     Bloodseeker          agi       Melee   \n",
       "4   5  npc_dota_hero_crystal_maiden  Crystal Maiden          int      Ranged   \n",
       "\n",
       "                                            roles  legs  \n",
       "0                          [Carry, Escape, Nuker]     2  \n",
       "1  [Initiator, Durable, Disabler, Jungler, Carry]     2  \n",
       "2             [Support, Disabler, Nuker, Durable]     4  \n",
       "3    [Carry, Disabler, Jungler, Nuker, Initiator]     2  \n",
       "4             [Support, Disabler, Nuker, Jungler]     2  "
      ]
     },
     "execution_count": 44,
     "metadata": {},
     "output_type": "execute_result"
    }
   ],
   "source": [
    "df.head()"
   ]
  },
  {
   "cell_type": "code",
   "execution_count": 45,
   "id": "a3ad9106",
   "metadata": {},
   "outputs": [
    {
     "data": {
      "text/html": [
       "<div>\n",
       "<style scoped>\n",
       "    .dataframe tbody tr th:only-of-type {\n",
       "        vertical-align: middle;\n",
       "    }\n",
       "\n",
       "    .dataframe tbody tr th {\n",
       "        vertical-align: top;\n",
       "    }\n",
       "\n",
       "    .dataframe thead th {\n",
       "        text-align: right;\n",
       "    }\n",
       "</style>\n",
       "<table border=\"1\" class=\"dataframe\">\n",
       "  <thead>\n",
       "    <tr style=\"text-align: right;\">\n",
       "      <th></th>\n",
       "      <th>id</th>\n",
       "      <th>name</th>\n",
       "      <th>localized_name</th>\n",
       "      <th>primary_attr</th>\n",
       "      <th>attack_type</th>\n",
       "      <th>roles</th>\n",
       "      <th>legs</th>\n",
       "    </tr>\n",
       "  </thead>\n",
       "  <tbody>\n",
       "    <tr>\n",
       "      <th>0</th>\n",
       "      <td>1</td>\n",
       "      <td>npc_dota_hero_antimage</td>\n",
       "      <td>Anti-Mage</td>\n",
       "      <td>agi</td>\n",
       "      <td>Melee</td>\n",
       "      <td>Carry</td>\n",
       "      <td>2</td>\n",
       "    </tr>\n",
       "    <tr>\n",
       "      <th>1</th>\n",
       "      <td>1</td>\n",
       "      <td>npc_dota_hero_antimage</td>\n",
       "      <td>Anti-Mage</td>\n",
       "      <td>agi</td>\n",
       "      <td>Melee</td>\n",
       "      <td>Escape</td>\n",
       "      <td>2</td>\n",
       "    </tr>\n",
       "    <tr>\n",
       "      <th>2</th>\n",
       "      <td>1</td>\n",
       "      <td>npc_dota_hero_antimage</td>\n",
       "      <td>Anti-Mage</td>\n",
       "      <td>agi</td>\n",
       "      <td>Melee</td>\n",
       "      <td>Nuker</td>\n",
       "      <td>2</td>\n",
       "    </tr>\n",
       "    <tr>\n",
       "      <th>3</th>\n",
       "      <td>2</td>\n",
       "      <td>npc_dota_hero_axe</td>\n",
       "      <td>Axe</td>\n",
       "      <td>str</td>\n",
       "      <td>Melee</td>\n",
       "      <td>Initiator</td>\n",
       "      <td>2</td>\n",
       "    </tr>\n",
       "    <tr>\n",
       "      <th>4</th>\n",
       "      <td>2</td>\n",
       "      <td>npc_dota_hero_axe</td>\n",
       "      <td>Axe</td>\n",
       "      <td>str</td>\n",
       "      <td>Melee</td>\n",
       "      <td>Durable</td>\n",
       "      <td>2</td>\n",
       "    </tr>\n",
       "  </tbody>\n",
       "</table>\n",
       "</div>"
      ],
      "text/plain": [
       "   id                    name localized_name primary_attr attack_type  \\\n",
       "0   1  npc_dota_hero_antimage      Anti-Mage          agi       Melee   \n",
       "1   1  npc_dota_hero_antimage      Anti-Mage          agi       Melee   \n",
       "2   1  npc_dota_hero_antimage      Anti-Mage          agi       Melee   \n",
       "3   2       npc_dota_hero_axe            Axe          str       Melee   \n",
       "4   2       npc_dota_hero_axe            Axe          str       Melee   \n",
       "\n",
       "       roles  legs  \n",
       "0      Carry     2  \n",
       "1     Escape     2  \n",
       "2      Nuker     2  \n",
       "3  Initiator     2  \n",
       "4    Durable     2  "
      ]
     },
     "execution_count": 45,
     "metadata": {},
     "output_type": "execute_result"
    }
   ],
   "source": [
    "dff = df.explode(\"roles\").reset_index(drop=True)\n",
    "dff.head()"
   ]
  },
  {
   "cell_type": "markdown",
   "id": "d2b3fe9c",
   "metadata": {},
   "source": [
    "### Пункт первый"
   ]
  },
  {
   "cell_type": "code",
   "execution_count": 116,
   "id": "e6262310",
   "metadata": {
    "scrolled": true
   },
   "outputs": [
    {
     "data": {
      "image/png": "[encoded data removed]",
      "text/plain": [
       "<Figure size 288x144 with 1 Axes>"
      ]
     },
     "metadata": {},
     "output_type": "display_data"
    },
    {
     "data": {
      "image/png": "[encoded data removed]",
      "text/plain": [
       "<Figure size 288x144 with 1 Axes>"
      ]
     },
     "metadata": {},
     "output_type": "display_data"
    },
    {
     "data": {
      "image/png": "[encoded data removed]",
      "text/plain": [
       "<Figure size 288x144 with 1 Axes>"
      ]
     },
     "metadata": {},
     "output_type": "display_data"
    },
    {
     "data": {
      "image/png": "[encoded data removed]",
      "text/plain": [
       "<Figure size 288x144 with 1 Axes>"
      ]
     },
     "metadata": {},
     "output_type": "display_data"
    },
    {
     "data": {
      "image/png": "[encoded data removed]",
      "text/plain": [
       "<Figure size 288x144 with 1 Axes>"
      ]
     },
     "metadata": {},
     "output_type": "display_data"
    },
    {
     "data": {
      "image/png": "[encoded data removed]",
      "text/plain": [
       "<Figure size 288x144 with 1 Axes>"
      ]
     },
     "metadata": {},
     "output_type": "display_data"
    },
    {
     "data": {
      "image/png": "[encoded data removed]",
      "text/plain": [
       "<Figure size 288x144 with 1 Axes>"
      ]
     },
     "metadata": {},
     "output_type": "display_data"
    },
    {
     "data": {
      "image/png": "[encoded data removed]",
      "text/plain": [
       "<Figure size 288x144 with 1 Axes>"
      ]
     },
     "metadata": {},
     "output_type": "display_data"
    },
    {
     "data": {
      "image/png": "[encoded data removed]",
      "text/plain": [
       "<Figure size 288x144 with 1 Axes>"
      ]
     },
     "metadata": {},
     "output_type": "display_data"
    }
   ],
   "source": [
    "R = list(set(pd.Series.tolist(dff.roles)))\n",
    "for i, role in enumerate(R):\n",
    "    datas = dff[dff.roles == role].sort_values(\"primary_attr\")\n",
    "    sns.catplot(x=\"primary_attr\", kind=\"count\", palette=\"ch:.25\", data = datas).fig.set_size_inches(4,2)\n",
    "    plt.title(role)\n",
    "    \n",
    "    "
   ]
  },
  {
   "cell_type": "markdown",
   "id": "f88aad27",
   "metadata": {},
   "source": [
    "### Пункт второй"
   ]
  },
  {
   "cell_type": "code",
   "execution_count": 109,
   "id": "6bbb40dd",
   "metadata": {},
   "outputs": [
    {
     "data": {
      "image/png": "[encoded data removed]",
      "text/plain": [
       "<Figure size 504x216 with 1 Axes>"
      ]
     },
     "metadata": {},
     "output_type": "display_data"
    },
    {
     "data": {
      "image/png": "[encoded data removed]",
      "text/plain": [
       "<Figure size 504x216 with 1 Axes>"
      ]
     },
     "metadata": {},
     "output_type": "display_data"
    },
    {
     "data": {
      "image/png": "[encoded data removed]",
      "text/plain": [
       "<Figure size 504x216 with 1 Axes>"
      ]
     },
     "metadata": {},
     "output_type": "display_data"
    }
   ],
   "source": [
    "ATR = list(set(pd.Series.tolist(dff.primary_attr)))\n",
    "for i, atrib in enumerate(ATR):\n",
    "    datas = dff[dff.primary_attr == atrib].sort_values(\"roles\")\n",
    "    sns.catplot(x=\"roles\", kind=\"count\", palette=\"ch:.25\", data = datas).fig.set_size_inches(7,3)\n",
    "    plt.title(atrib)"
   ]
  },
  {
   "cell_type": "markdown",
   "id": "50221c99",
   "metadata": {},
   "source": [
    "### Пункт третий"
   ]
  },
  {
   "cell_type": "markdown",
   "id": "41f0ebfc",
   "metadata": {},
   "source": [
    "####  1. У героев со свойством интеллект (Int) чаще всего встречаются роли Disabler (Контроль) и Nuker (Быстрый урон), а реже всего Durable (Стойкость).\n",
    "####  2. У героев со свойством сила (Str) чаще всего встречаются роли Disabler (Контроль) и Durable (Стойкость), а реже всего Jungler (Лес).\n",
    "####  3. Самая редкая роль в игре Jungler (Лес)."
   ]
  }
 ],
 "metadata": {
  "kernelspec": {
   "display_name": "Python 3 (ipykernel)",
   "language": "python",
   "name": "python3"
  },
  "language_info": {
   "codemirror_mode": {
    "name": "ipython",
    "version": 3
   },
   "file_extension": ".py",
   "mimetype": "text/x-python",
   "name": "python",
   "nbconvert_exporter": "python",
   "pygments_lexer": "ipython3",
   "version": "3.9.12"
  }
 },
 "nbformat": 4,
 "nbformat_minor": 5
}
