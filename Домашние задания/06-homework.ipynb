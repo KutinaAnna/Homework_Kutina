{
 "cells": [
  {
   "cell_type": "markdown",
   "id": "2fc5c9ed",
   "metadata": {},
   "source": [
    "## Домашняя работа\n",
    "Для задач Easy и Normal использовать данные Титаника"
   ]
  },
  {
   "cell_type": "code",
   "execution_count": 17,
   "id": "2054d802",
   "metadata": {},
   "outputs": [],
   "source": [
    "import numpy as np\n",
    "import pandas as pd\n",
    "import matplotlib.pyplot as plt\n",
    "import seaborn as sns\n",
    "import scipy\n",
    "import scipy.stats\n",
    "from statsmodels.stats.proportion import proportions_ztest"
   ]
  },
  {
   "cell_type": "code",
   "execution_count": 18,
   "id": "be8e8c52",
   "metadata": {},
   "outputs": [
    {
     "data": {
      "text/html": [
       "<div>\n",
       "<style scoped>\n",
       "    .dataframe tbody tr th:only-of-type {\n",
       "        vertical-align: middle;\n",
       "    }\n",
       "\n",
       "    .dataframe tbody tr th {\n",
       "        vertical-align: top;\n",
       "    }\n",
       "\n",
       "    .dataframe thead th {\n",
       "        text-align: right;\n",
       "    }\n",
       "</style>\n",
       "<table border=\"1\" class=\"dataframe\">\n",
       "  <thead>\n",
       "    <tr style=\"text-align: right;\">\n",
       "      <th></th>\n",
       "      <th>PassengerId</th>\n",
       "      <th>Survived</th>\n",
       "      <th>Pclass</th>\n",
       "      <th>Name</th>\n",
       "      <th>Sex</th>\n",
       "      <th>Age</th>\n",
       "      <th>SibSp</th>\n",
       "      <th>Parch</th>\n",
       "      <th>Ticket</th>\n",
       "      <th>Fare</th>\n",
       "      <th>Cabin</th>\n",
       "      <th>Embarked</th>\n",
       "    </tr>\n",
       "  </thead>\n",
       "  <tbody>\n",
       "    <tr>\n",
       "      <th>0</th>\n",
       "      <td>1</td>\n",
       "      <td>0</td>\n",
       "      <td>3</td>\n",
       "      <td>Braund, Mr. Owen Harris</td>\n",
       "      <td>male</td>\n",
       "      <td>22.0</td>\n",
       "      <td>1</td>\n",
       "      <td>0</td>\n",
       "      <td>A/5 21171</td>\n",
       "      <td>7.2500</td>\n",
       "      <td>NaN</td>\n",
       "      <td>S</td>\n",
       "    </tr>\n",
       "    <tr>\n",
       "      <th>1</th>\n",
       "      <td>2</td>\n",
       "      <td>1</td>\n",
       "      <td>1</td>\n",
       "      <td>Cumings, Mrs. John Bradley (Florence Briggs Th...</td>\n",
       "      <td>female</td>\n",
       "      <td>38.0</td>\n",
       "      <td>1</td>\n",
       "      <td>0</td>\n",
       "      <td>PC 17599</td>\n",
       "      <td>71.2833</td>\n",
       "      <td>C85</td>\n",
       "      <td>C</td>\n",
       "    </tr>\n",
       "    <tr>\n",
       "      <th>2</th>\n",
       "      <td>3</td>\n",
       "      <td>1</td>\n",
       "      <td>3</td>\n",
       "      <td>Heikkinen, Miss. Laina</td>\n",
       "      <td>female</td>\n",
       "      <td>26.0</td>\n",
       "      <td>0</td>\n",
       "      <td>0</td>\n",
       "      <td>STON/O2. 3101282</td>\n",
       "      <td>7.9250</td>\n",
       "      <td>NaN</td>\n",
       "      <td>S</td>\n",
       "    </tr>\n",
       "    <tr>\n",
       "      <th>3</th>\n",
       "      <td>4</td>\n",
       "      <td>1</td>\n",
       "      <td>1</td>\n",
       "      <td>Futrelle, Mrs. Jacques Heath (Lily May Peel)</td>\n",
       "      <td>female</td>\n",
       "      <td>35.0</td>\n",
       "      <td>1</td>\n",
       "      <td>0</td>\n",
       "      <td>113803</td>\n",
       "      <td>53.1000</td>\n",
       "      <td>C123</td>\n",
       "      <td>S</td>\n",
       "    </tr>\n",
       "    <tr>\n",
       "      <th>4</th>\n",
       "      <td>5</td>\n",
       "      <td>0</td>\n",
       "      <td>3</td>\n",
       "      <td>Allen, Mr. William Henry</td>\n",
       "      <td>male</td>\n",
       "      <td>35.0</td>\n",
       "      <td>0</td>\n",
       "      <td>0</td>\n",
       "      <td>373450</td>\n",
       "      <td>8.0500</td>\n",
       "      <td>NaN</td>\n",
       "      <td>S</td>\n",
       "    </tr>\n",
       "    <tr>\n",
       "      <th>...</th>\n",
       "      <td>...</td>\n",
       "      <td>...</td>\n",
       "      <td>...</td>\n",
       "      <td>...</td>\n",
       "      <td>...</td>\n",
       "      <td>...</td>\n",
       "      <td>...</td>\n",
       "      <td>...</td>\n",
       "      <td>...</td>\n",
       "      <td>...</td>\n",
       "      <td>...</td>\n",
       "      <td>...</td>\n",
       "    </tr>\n",
       "    <tr>\n",
       "      <th>886</th>\n",
       "      <td>887</td>\n",
       "      <td>0</td>\n",
       "      <td>2</td>\n",
       "      <td>Montvila, Rev. Juozas</td>\n",
       "      <td>male</td>\n",
       "      <td>27.0</td>\n",
       "      <td>0</td>\n",
       "      <td>0</td>\n",
       "      <td>211536</td>\n",
       "      <td>13.0000</td>\n",
       "      <td>NaN</td>\n",
       "      <td>S</td>\n",
       "    </tr>\n",
       "    <tr>\n",
       "      <th>887</th>\n",
       "      <td>888</td>\n",
       "      <td>1</td>\n",
       "      <td>1</td>\n",
       "      <td>Graham, Miss. Margaret Edith</td>\n",
       "      <td>female</td>\n",
       "      <td>19.0</td>\n",
       "      <td>0</td>\n",
       "      <td>0</td>\n",
       "      <td>112053</td>\n",
       "      <td>30.0000</td>\n",
       "      <td>B42</td>\n",
       "      <td>S</td>\n",
       "    </tr>\n",
       "    <tr>\n",
       "      <th>888</th>\n",
       "      <td>889</td>\n",
       "      <td>0</td>\n",
       "      <td>3</td>\n",
       "      <td>Johnston, Miss. Catherine Helen \"Carrie\"</td>\n",
       "      <td>female</td>\n",
       "      <td>NaN</td>\n",
       "      <td>1</td>\n",
       "      <td>2</td>\n",
       "      <td>W./C. 6607</td>\n",
       "      <td>23.4500</td>\n",
       "      <td>NaN</td>\n",
       "      <td>S</td>\n",
       "    </tr>\n",
       "    <tr>\n",
       "      <th>889</th>\n",
       "      <td>890</td>\n",
       "      <td>1</td>\n",
       "      <td>1</td>\n",
       "      <td>Behr, Mr. Karl Howell</td>\n",
       "      <td>male</td>\n",
       "      <td>26.0</td>\n",
       "      <td>0</td>\n",
       "      <td>0</td>\n",
       "      <td>111369</td>\n",
       "      <td>30.0000</td>\n",
       "      <td>C148</td>\n",
       "      <td>C</td>\n",
       "    </tr>\n",
       "    <tr>\n",
       "      <th>890</th>\n",
       "      <td>891</td>\n",
       "      <td>0</td>\n",
       "      <td>3</td>\n",
       "      <td>Dooley, Mr. Patrick</td>\n",
       "      <td>male</td>\n",
       "      <td>32.0</td>\n",
       "      <td>0</td>\n",
       "      <td>0</td>\n",
       "      <td>370376</td>\n",
       "      <td>7.7500</td>\n",
       "      <td>NaN</td>\n",
       "      <td>Q</td>\n",
       "    </tr>\n",
       "  </tbody>\n",
       "</table>\n",
       "<p>891 rows × 12 columns</p>\n",
       "</div>"
      ],
      "text/plain": [
       "     PassengerId  Survived  Pclass  \\\n",
       "0              1         0       3   \n",
       "1              2         1       1   \n",
       "2              3         1       3   \n",
       "3              4         1       1   \n",
       "4              5         0       3   \n",
       "..           ...       ...     ...   \n",
       "886          887         0       2   \n",
       "887          888         1       1   \n",
       "888          889         0       3   \n",
       "889          890         1       1   \n",
       "890          891         0       3   \n",
       "\n",
       "                                                  Name     Sex   Age  SibSp  \\\n",
       "0                              Braund, Mr. Owen Harris    male  22.0      1   \n",
       "1    Cumings, Mrs. John Bradley (Florence Briggs Th...  female  38.0      1   \n",
       "2                               Heikkinen, Miss. Laina  female  26.0      0   \n",
       "3         Futrelle, Mrs. Jacques Heath (Lily May Peel)  female  35.0      1   \n",
       "4                             Allen, Mr. William Henry    male  35.0      0   \n",
       "..                                                 ...     ...   ...    ...   \n",
       "886                              Montvila, Rev. Juozas    male  27.0      0   \n",
       "887                       Graham, Miss. Margaret Edith  female  19.0      0   \n",
       "888           Johnston, Miss. Catherine Helen \"Carrie\"  female   NaN      1   \n",
       "889                              Behr, Mr. Karl Howell    male  26.0      0   \n",
       "890                                Dooley, Mr. Patrick    male  32.0      0   \n",
       "\n",
       "     Parch            Ticket     Fare Cabin Embarked  \n",
       "0        0         A/5 21171   7.2500   NaN        S  \n",
       "1        0          PC 17599  71.2833   C85        C  \n",
       "2        0  STON/O2. 3101282   7.9250   NaN        S  \n",
       "3        0            113803  53.1000  C123        S  \n",
       "4        0            373450   8.0500   NaN        S  \n",
       "..     ...               ...      ...   ...      ...  \n",
       "886      0            211536  13.0000   NaN        S  \n",
       "887      0            112053  30.0000   B42        S  \n",
       "888      2        W./C. 6607  23.4500   NaN        S  \n",
       "889      0            111369  30.0000  C148        C  \n",
       "890      0            370376   7.7500   NaN        Q  \n",
       "\n",
       "[891 rows x 12 columns]"
      ]
     },
     "execution_count": 18,
     "metadata": {},
     "output_type": "execute_result"
    }
   ],
   "source": [
    "df = pd.read_csv(r'D:\\Курсы Питон\\Титаник\\train.csv')\n",
    "df"
   ]
  },
  {
   "cell_type": "markdown",
   "id": "4e789669",
   "metadata": {},
   "source": [
    "### Easy\n",
    "Оценить с помощью доверительных интервалов:\n",
    "\n",
    "выживаемость всех пассажиров (оценить среднее по isSurvived)\n",
    "\n",
    "выживаемость женщин\n",
    "\n",
    "выживаемость людей с каютами первого класса\n",
    "\n",
    "Ответить на вопросы:\n",
    "\n",
    "Какой вариант оценки доверительных интервалов нужно использовать в данной задаче и почему?\n",
    "\n",
    "Какая из ошибок более критична для данной задачи - I или II рода?"
   ]
  },
  {
   "cell_type": "markdown",
   "id": "fc91da62",
   "metadata": {},
   "source": [
    "Для всех пассажиров"
   ]
  },
  {
   "cell_type": "code",
   "execution_count": 19,
   "id": "c5f70f33",
   "metadata": {},
   "outputs": [],
   "source": [
    "mean = df[[\"Survived\"]].mean() #доля выживших - \"среднее\"\n",
    "std = df[[\"Survived\"]].std() #стандартное отклонение доли выживших\n",
    "n = len(df[[\"Survived\"]])\n",
    "alpha_95 = 0.05\n",
    "alpha_99 = 0.01"
   ]
  },
  {
   "cell_type": "code",
   "execution_count": 20,
   "id": "38341f51",
   "metadata": {},
   "outputs": [
    {
     "data": {
      "text/plain": [
       "(array([0.3518446]), array([0.41583217]))"
      ]
     },
     "execution_count": 20,
     "metadata": {},
     "output_type": "execute_result"
    }
   ],
   "source": [
    "from scipy.stats import t\n",
    "\n",
    "t.interval(1 - alpha_95, n - 1, loc=mean, scale=std / np.sqrt(n)) # Доля выживших с вероятностью 95% составляет от 0.352 до 0.416"
   ]
  },
  {
   "cell_type": "code",
   "execution_count": 21,
   "id": "be9764cd",
   "metadata": {},
   "outputs": [
    {
     "data": {
      "text/plain": [
       "(array([0.34175837]), array([0.4259184]))"
      ]
     },
     "execution_count": 21,
     "metadata": {},
     "output_type": "execute_result"
    }
   ],
   "source": [
    "t.interval(1 - alpha_99, n - 1, loc=mean, scale=std / np.sqrt(n)) # Доля выживших с вероятностью 99% составляет от 0.342 до 0.426"
   ]
  },
  {
   "cell_type": "markdown",
   "id": "041aedcc",
   "metadata": {},
   "source": [
    "Для женщин"
   ]
  },
  {
   "cell_type": "code",
   "execution_count": 22,
   "id": "1e8823e5",
   "metadata": {},
   "outputs": [],
   "source": [
    "df_f = df[df[\"Sex\"] == \"female\"]\n",
    "mean_f = df_f[[\"Survived\"]].mean() #доля выживших - \"среднее\"\n",
    "std_f = df_f[[\"Survived\"]].std() #стандартное отклонение доли выживших\n",
    "n_f = len(df_f[[\"Survived\"]])"
   ]
  },
  {
   "cell_type": "code",
   "execution_count": 23,
   "id": "70baef50",
   "metadata": {},
   "outputs": [
    {
     "data": {
      "text/plain": [
       "(array([0.69350291]), array([0.79057352]))"
      ]
     },
     "execution_count": 23,
     "metadata": {},
     "output_type": "execute_result"
    }
   ],
   "source": [
    "t.interval(1 - alpha_95, n - 1, loc=mean_f, scale=std_f / np.sqrt(n_f)) # Доля выживших женщин с вероятностью 95% составляет от 0.694 до 0.791"
   ]
  },
  {
   "cell_type": "code",
   "execution_count": 24,
   "id": "78267383",
   "metadata": {},
   "outputs": [
    {
     "data": {
      "text/plain": [
       "(array([0.67820187]), array([0.80587456]))"
      ]
     },
     "execution_count": 24,
     "metadata": {},
     "output_type": "execute_result"
    }
   ],
   "source": [
    "t.interval(1 - alpha_99, n - 1, loc=mean_f, scale=std_f / np.sqrt(n_f)) # Доля выживших с вероятностью 99% составляет от 0.678 до 0.806"
   ]
  },
  {
   "cell_type": "markdown",
   "id": "00edfa4d",
   "metadata": {},
   "source": [
    "Для людей с каютами первого класса"
   ]
  },
  {
   "cell_type": "code",
   "execution_count": 25,
   "id": "3afc023e",
   "metadata": {},
   "outputs": [],
   "source": [
    "df_pc = df[df[\"Pclass\"] == 1]\n",
    "mean_pc = df_pc[[\"Survived\"]].mean() #доля выживших - \"среднее\"\n",
    "std_pc = df_pc[[\"Survived\"]].std() #стандартное отклонение доли выживших\n",
    "n_pc = len(df_pc[[\"Survived\"]])"
   ]
  },
  {
   "cell_type": "code",
   "execution_count": 26,
   "id": "f9d5f7c9",
   "metadata": {},
   "outputs": [
    {
     "data": {
      "text/plain": [
       "(array([0.56499272]), array([0.69426654]))"
      ]
     },
     "execution_count": 26,
     "metadata": {},
     "output_type": "execute_result"
    }
   ],
   "source": [
    "t.interval(1 - alpha_95, n - 1, loc=mean_pc, scale=std_pc / np.sqrt(n_pc)) # Доля выживших пассажиров первого класса с вероятностью 95% составляет от 0.565 до 0.694"
   ]
  },
  {
   "cell_type": "code",
   "execution_count": 27,
   "id": "89b9fc43",
   "metadata": {},
   "outputs": [
    {
     "data": {
      "text/plain": [
       "(array([0.54461556]), array([0.7146437]))"
      ]
     },
     "execution_count": 27,
     "metadata": {},
     "output_type": "execute_result"
    }
   ],
   "source": [
    "t.interval(1 - alpha_99, n - 1, loc=mean_pc, scale=std_pc / np.sqrt(n_pc)) # Доля выживших пассажиров первого класса с вероятностью 99% составляет от 0.545 до 0.715"
   ]
  },
  {
   "cell_type": "markdown",
   "id": "efcf32f1",
   "metadata": {},
   "source": [
    "##### Ответы на вопросы:"
   ]
  },
  {
   "cell_type": "markdown",
   "id": "72ce5e58",
   "metadata": {},
   "source": [
    "1. В данной задаче нужно использовать вариант оценки доверительных интервалов, когда настоящая дисперсия неизвестна, так как мы имеем дело с выборкой и не знаем параметров генеральной совокупности.\n",
    "2. Для данной задачи критична ошибка I рода, мы ее фиксируем на определенном уровне (например, 5% или 1%) и закладываем в расчет доверительного интервала. Чем меньше мы закладываем ошибку I рода, тем шире получаются границы доверительного интервала (соответственно растет вероятность ошибки II рода)."
   ]
  },
  {
   "cell_type": "markdown",
   "id": "b8730ed4",
   "metadata": {},
   "source": [
    "### Normal\n",
    "Проверить гипотезу о том, что женщины выживают чаще мужчин с уровнем значимости 0.05.\n",
    "\n",
    "Проверить гипотезу о том, что дети выживают чаще, чем взрослые.\n"
   ]
  },
  {
   "cell_type": "markdown",
   "id": "ab5733f6",
   "metadata": {},
   "source": [
    "Женщины vs мужчины"
   ]
  },
  {
   "cell_type": "code",
   "execution_count": 29,
   "id": "9563ae88",
   "metadata": {},
   "outputs": [],
   "source": [
    "df_sex = df[[\"Sex\", \"Survived\"]].dropna(axis=0, how='any')\n",
    "\n",
    "fs = len(df_sex[(df_sex[\"Sex\"] == \"female\") & (df_sex[\"Survived\"] == 1)]) # число выживших женщин\n",
    "f = len(df_sex[df_sex[\"Sex\"] == \"female\"]) # число женщин на борту\n",
    "ms = len(df_sex[(df_sex[\"Sex\"] == \"male\") & (df_sex[\"Survived\"] == 1)]) # число выживших мужчин\n",
    "m = len(df_sex[df_sex[\"Sex\"] == \"male\"]) # число мужчин на борту"
   ]
  },
  {
   "cell_type": "code",
   "execution_count": 30,
   "id": "950953bb",
   "metadata": {},
   "outputs": [
    {
     "name": "stdout",
     "output_type": "stream",
     "text": [
      "0.000\n"
     ]
    }
   ],
   "source": [
    "count = np.array([fs, ms])\n",
    "nobs = np.array([f, m])\n",
    "stat, pval = proportions_ztest(count, nobs, alternative='larger') # расчет Z-статистики для сравнения двух выборочных долей\n",
    "print('{0:0.3f}'.format(pval))"
   ]
  },
  {
   "cell_type": "markdown",
   "id": "2e3b07e3",
   "metadata": {},
   "source": [
    "Значение p-value ниже уровня значимости 0.05, следовательно мы отвергаем нулевую гипотезу о равенстве долей. Доля выживших женщин статистически значимо выше, чем доля выживших мужчин."
   ]
  },
  {
   "cell_type": "markdown",
   "id": "8166494a",
   "metadata": {},
   "source": [
    "Дети vs взрослые"
   ]
  },
  {
   "cell_type": "code",
   "execution_count": 31,
   "id": "2bb14a09",
   "metadata": {},
   "outputs": [
    {
     "name": "stdout",
     "output_type": "stream",
     "text": [
      "0.001\n"
     ]
    }
   ],
   "source": [
    "df_age = df[[\"Age\", \"Survived\"]].dropna(axis=0, how='any')\n",
    "df_age[\"age_category\"] = df_age[\"Age\"].apply(lambda x: \"child\" if x < 18 else \"adult\")\n",
    "\n",
    "chs = len(df_age[(df_age[\"age_category\"] == \"child\") & (df_age[\"Survived\"] == 1)]) # число выживших детей\n",
    "ch = len(df_age[df_age[\"age_category\"] == \"child\"]) # число детей на борту\n",
    "ads = len(df_age[(df_age[\"age_category\"] == \"adult\") & (df_age[\"Survived\"] == 1)]) # число выживших взрослых\n",
    "ad = len(df_age[df_age[\"age_category\"] == \"adult\"]) # число взрослых на борту\n",
    "\n",
    "count = np.array([chs, ads])\n",
    "nobs = np.array([ch, ad])\n",
    "stat, pval = proportions_ztest(count, nobs, alternative='larger') # расчет Z-статистики для сравнения двух выборочных долей\n",
    "print('{0:0.3f}'.format(pval))"
   ]
  },
  {
   "cell_type": "markdown",
   "id": "70b82565",
   "metadata": {},
   "source": [
    "Значение p-value ниже уровня значимости 0.05, следовательно мы отвергаем нулевую гипотезу о равенстве долей. Доля выживших детей статистически значимо выше, чем доля выживших взрослых."
   ]
  },
  {
   "cell_type": "markdown",
   "id": "e4df7299",
   "metadata": {},
   "source": [
    "### Hard\n",
    "Одной из важнейших тем в статистике является множественная проверка гипотез.\n",
    "\n",
    "Если нужно много раз проверять гипотезы, то вероятность совершить ошибку первого рода будет расти с каждой новой гипотезой.\n",
    "\n",
    "Прочитать подробнее можно здесь\n",
    "\n",
    "Задача:\n",
    "\n",
    "Мы отобрали 1000 человек, которые заявляют, что они экстрасенсы. Мы хотим проверить это. Для этого проводится следующий эксперимент. Перед каждым участником выкладывают 10 карт рубашкой вверх и просят угадать цвет карты (красный или черный). На уровне значимости 0.01 мы хотим быть уверены, является ли человек экстрасенсом.\n",
    "\n",
    "Нужно смоделировать ситуацию двумя способами (предполагаем, что экстрасенсов не существует и решения участников представляют из себя биномиальное распределение):\n",
    "\n",
    "без множественной проверки гипотез, выявить количество экстрасенсов\n",
    "с множественной проверкой гипотез, используя поправку Бонферрони (правило FWER)\n",
    "Сколько экстрасенсов получилось поймать в каждом из случаев?"
   ]
  },
  {
   "cell_type": "code",
   "execution_count": 32,
   "id": "133095c5",
   "metadata": {},
   "outputs": [],
   "source": [
    "from scipy.stats import binomtest"
   ]
  },
  {
   "cell_type": "markdown",
   "id": "d098a60b",
   "metadata": {},
   "source": [
    "1. Дизайн без множественных сравнений: ставим 1000 экспериментов, для каждого испытуемого \"экстрасенса\" генерируется новая раскладка карт. Статистический вывод делаем, просто сравнивая p-value, полученное в эксперименте, и пороговое значение р = 0.01.\n",
    "2. Дизайн c множественными сравнениями: ставим 1000 экспериментов, для каждого испытуемого \"экстрасенса\" генерируется новая раскладка карт. Статистический вывод делаем, сравнивая p-value, полученное в эксперименте, со скорректированным пороговым значением. Скорректированное значение р = alpha/m, где m - число проведенных сравнений на выборках из одной генеральной совокупности. В нашем случае порог будет 0.01/1000 = 0.00001."
   ]
  },
  {
   "cell_type": "code",
   "execution_count": 55,
   "id": "f355ad11",
   "metadata": {},
   "outputs": [
    {
     "name": "stdout",
     "output_type": "stream",
     "text": [
      "3 и 0  экстрасенса в первом и втором экспериментах, соответственно\n"
     ]
    }
   ],
   "source": [
    "p = 0.5\n",
    "pvalue_arr = []\n",
    "for i in range (0, 1000):\n",
    "    s_test = np.random.binomial(1, p, 10)\n",
    "    s_answ = np.random.binomial(1, p, 10)\n",
    "    s_sovp = s_test==s_answ\n",
    "    U = np.count_nonzero(s_sovp)\n",
    "    result = binomtest(U, 10, p, alternative='greater')\n",
    "    pvalue_arr.append(result.pvalue)\n",
    "    \n",
    "Extrasense = np.array(pvalue_arr)\n",
    "Extrasense_yes = Extrasense[Extrasense < 0.01].size\n",
    "Extrasense_yes_B = Extrasense[Extrasense < 0.00001].size\n",
    "print(Extrasense_yes, Extrasense_yes_B, sep=' и ', end=' ')\n",
    "print(\" экстрасенса в первом и втором экспериментах, соответственно\")"
   ]
  },
  {
   "cell_type": "markdown",
   "id": "c5d386c0",
   "metadata": {},
   "source": [
    "Без поправки на множественность сравнений мы сделали ложное открытие, что экстрасенсы существуют!"
   ]
  }
 ],
 "metadata": {
  "kernelspec": {
   "display_name": "Python 3 (ipykernel)",
   "language": "python",
   "name": "python3"
  },
  "language_info": {
   "codemirror_mode": {
    "name": "ipython",
    "version": 3
   },
   "file_extension": ".py",
   "mimetype": "text/x-python",
   "name": "python",
   "nbconvert_exporter": "python",
   "pygments_lexer": "ipython3",
   "version": "3.9.12"
  }
 },
 "nbformat": 4,
 "nbformat_minor": 5
}
