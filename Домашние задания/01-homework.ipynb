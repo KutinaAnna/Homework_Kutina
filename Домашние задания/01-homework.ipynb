{
 "cells": [
  {
   "cell_type": "markdown",
   "metadata": {},
   "source": [
    "# Домашнее задание"
   ]
  },
  {
   "cell_type": "markdown",
   "metadata": {},
   "source": [
    "## Easy"
   ]
  },
  {
   "cell_type": "markdown",
   "metadata": {},
   "source": [
    "######  Нужно написать функцию, которая на вход получает список из чисел, а на выходе дает список, где каждое число возведено в квадрат. Решать при помощи цикла."
   ]
  },
  {
   "cell_type": "code",
   "execution_count": 11,
   "metadata": {},
   "outputs": [],
   "source": [
    "def square_list(input_list):\n",
    "    new_list = []\n",
    "    for x in input_list:\n",
    "        new_list.append(x * x)\n",
    "    return new_list"
   ]
  },
  {
   "cell_type": "markdown",
   "metadata": {},
   "source": [
    "Попробовать на вход:\n",
    "\n",
    "\n",
    "#### 1.\n",
    "list(range(10))\n",
    "\n",
    "#### 2.\n",
    "list(range(100))\n",
    "\n",
    "#### 3.\n",
    "list()"
   ]
  },
  {
   "cell_type": "code",
   "execution_count": 12,
   "metadata": {},
   "outputs": [
    {
     "name": "stdout",
     "output_type": "stream",
     "text": [
      "[0, 1, 4, 9, 16, 25, 36, 49, 64, 81]\n"
     ]
    }
   ],
   "source": [
    "print(square_list(list(range(10))))"
   ]
  },
  {
   "cell_type": "code",
   "execution_count": 13,
   "metadata": {},
   "outputs": [
    {
     "name": "stdout",
     "output_type": "stream",
     "text": [
      "[0, 1, 4, 9, 16, 25, 36, 49, 64, 81, 100, 121, 144, 169, 196, 225, 256, 289, 324, 361, 400, 441, 484, 529, 576, 625, 676, 729, 784, 841, 900, 961, 1024, 1089, 1156, 1225, 1296, 1369, 1444, 1521, 1600, 1681, 1764, 1849, 1936, 2025, 2116, 2209, 2304, 2401, 2500, 2601, 2704, 2809, 2916, 3025, 3136, 3249, 3364, 3481, 3600, 3721, 3844, 3969, 4096, 4225, 4356, 4489, 4624, 4761, 4900, 5041, 5184, 5329, 5476, 5625, 5776, 5929, 6084, 6241, 6400, 6561, 6724, 6889, 7056, 7225, 7396, 7569, 7744, 7921, 8100, 8281, 8464, 8649, 8836, 9025, 9216, 9409, 9604, 9801]\n"
     ]
    }
   ],
   "source": [
    "print(square_list(list(range(100))))"
   ]
  },
  {
   "cell_type": "code",
   "execution_count": 14,
   "metadata": {},
   "outputs": [
    {
     "name": "stdout",
     "output_type": "stream",
     "text": [
      "[]\n"
     ]
    }
   ],
   "source": [
    "print(square_list(list()))"
   ]
  },
  {
   "cell_type": "markdown",
   "metadata": {},
   "source": [
    "## Normal"
   ]
  },
  {
   "cell_type": "markdown",
   "metadata": {},
   "source": [
    "##### Тоже самое, но на этот раз без цикла (смотрим раздел с функциями из ноутбука, который разбирали в классе). Сравнить скорость выполнения первого и второго варианта."
   ]
  },
  {
   "cell_type": "code",
   "execution_count": 15,
   "metadata": {},
   "outputs": [],
   "source": [
    "def square_element(x):\n",
    "    return x * x"
   ]
  },
  {
   "cell_type": "code",
   "execution_count": 16,
   "metadata": {},
   "outputs": [
    {
     "name": "stdout",
     "output_type": "stream",
     "text": [
      "[0, 1, 4, 9, 16, 25, 36, 49, 64, 81]\n"
     ]
    }
   ],
   "source": [
    "test_list = [i for i in list(range(10))]\n",
    "print(list(map(square_element, test_list)))"
   ]
  },
  {
   "cell_type": "code",
   "execution_count": 17,
   "metadata": {},
   "outputs": [
    {
     "name": "stdout",
     "output_type": "stream",
     "text": [
      "[0, 1, 4, 9, 16, 25, 36, 49, 64, 81, 100, 121, 144, 169, 196, 225, 256, 289, 324, 361, 400, 441, 484, 529, 576, 625, 676, 729, 784, 841, 900, 961, 1024, 1089, 1156, 1225, 1296, 1369, 1444, 1521, 1600, 1681, 1764, 1849, 1936, 2025, 2116, 2209, 2304, 2401, 2500, 2601, 2704, 2809, 2916, 3025, 3136, 3249, 3364, 3481, 3600, 3721, 3844, 3969, 4096, 4225, 4356, 4489, 4624, 4761, 4900, 5041, 5184, 5329, 5476, 5625, 5776, 5929, 6084, 6241, 6400, 6561, 6724, 6889, 7056, 7225, 7396, 7569, 7744, 7921, 8100, 8281, 8464, 8649, 8836, 9025, 9216, 9409, 9604, 9801]\n"
     ]
    }
   ],
   "source": [
    "test_list = [i for i in list(range(100))]\n",
    "print(list(map(square_element, test_list)))"
   ]
  },
  {
   "cell_type": "code",
   "execution_count": 18,
   "metadata": {},
   "outputs": [
    {
     "name": "stdout",
     "output_type": "stream",
     "text": [
      "[]\n"
     ]
    }
   ],
   "source": [
    "test_list = [i for i in list()]\n",
    "print(list(map(square_element, test_list)))"
   ]
  },
  {
   "cell_type": "markdown",
   "metadata": {},
   "source": [
    "### Сравнение скорости"
   ]
  },
  {
   "cell_type": "code",
   "execution_count": 19,
   "metadata": {},
   "outputs": [
    {
     "name": "stdout",
     "output_type": "stream",
     "text": [
      "5.73 µs ± 15 ns per loop (mean ± std. dev. of 7 runs, 100,000 loops each)\n"
     ]
    }
   ],
   "source": [
    "%%timeit\n",
    "square_list(list(range(100)))"
   ]
  },
  {
   "cell_type": "code",
   "execution_count": 20,
   "metadata": {},
   "outputs": [
    {
     "name": "stdout",
     "output_type": "stream",
     "text": [
      "7.62 µs ± 29.9 ns per loop (mean ± std. dev. of 7 runs, 100,000 loops each)\n"
     ]
    }
   ],
   "source": [
    "%%timeit\n",
    "\n",
    "test_list = [i for i in list(range(100))]\n",
    "list(map(square_element, test_list))"
   ]
  },
  {
   "cell_type": "markdown",
   "metadata": {},
   "source": [
    "## Hard"
   ]
  },
  {
   "cell_type": "markdown",
   "metadata": {},
   "source": [
    "##### Написать функцию, которая на вход принимает список, а возвращает словарь со среднием, медианой и модой, например вот такой: {\"mean\": ..., \"median\": ..., \"mode\": ...}. На следующем занятии разберем как это сделать при помощи библиотек, а пока нужно реализовать просто по формулам.\n",
    "\n",
    "Пример:\n",
    "\n",
    "\n",
    "func([0, 1, 1, 10, 5, 4, 3])\n",
    "\n",
    "##### Должно вернуть: {\"mean\": 3.4285, \"median\": 3, \"mode\": 1}"
   ]
  },
  {
   "cell_type": "code",
   "execution_count": 59,
   "metadata": {},
   "outputs": [],
   "source": [
    "def Statistica(list_numbers):\n",
    "    list_numbers = [int(i) for i in input(\"Введите числа через пробел: \").split()]\n",
    "    \n",
    "    from functools import reduce\n",
    "    N = len(list_numbers)\n",
    "    Mean = (reduce(lambda x, y: x + y, list_numbers)) / N\n",
    "    \n",
    "    sorted_list_numbers = sorted(list_numbers)\n",
    "    n1 = sorted_list_numbers[int(N/2-1)]\n",
    "    n2 = sorted_list_numbers[int(N/2)]\n",
    "    n3 = sorted_list_numbers[int(N//2)]\n",
    "    if (N % 2) == 0:\n",
    "        Mediana = (n1 + n2)/2\n",
    "    else:\n",
    "        Mediana = n3\n",
    "    \n",
    "    number_counts = {}\n",
    "    for i in list_numbers:\n",
    "        if i in number_counts:\n",
    "            number_counts[i] += 1\n",
    "        else:\n",
    "            number_counts[i] = 1\n",
    "    sorted_values = sorted(number_counts.values())\n",
    "    number_sort = {}\n",
    "\n",
    "    for j in sorted_values:\n",
    "        for k in number_counts.keys():\n",
    "            if number_counts[k] == j:\n",
    "                number_sort[k] = number_counts[k]\n",
    "                break\n",
    "    max = 0\n",
    "    Moda = None\n",
    "    for k, v in number_sort.items():\n",
    "        if max < v:\n",
    "            max = v\n",
    "            Moda = k\n",
    "    \n",
    "    dict_statistica = {\"mean\": Mean, \"median\": Mediana, \"mode\": Moda}\n",
    "    return print(dict_statistica)"
   ]
  },
  {
   "cell_type": "code",
   "execution_count": 60,
   "metadata": {},
   "outputs": [
    {
     "name": "stdout",
     "output_type": "stream",
     "text": [
      "Введите числа через пробел: 26 34 2 15 29 41 13 15 42\n",
      "{'mean': 24.11111111111111, 'median': 26, 'mode': 15}\n"
     ]
    }
   ],
   "source": [
    "Statistica(list_numbers)"
   ]
  }
 ],
 "metadata": {
  "interpreter": {
   "hash": "3c60d125f86ecb331b65a8423cf0cca4676faa8812a500d14a58b02fbd427a36"
  },
  "kernelspec": {
   "display_name": "Python 3 (ipykernel)",
   "language": "python",
   "name": "python3"
  },
  "language_info": {
   "codemirror_mode": {
    "name": "ipython",
    "version": 3
   },
   "file_extension": ".py",
   "mimetype": "text/x-python",
   "name": "python",
   "nbconvert_exporter": "python",
   "pygments_lexer": "ipython3",
   "version": "3.9.12"
  }
 },
 "nbformat": 4,
 "nbformat_minor": 4
}
